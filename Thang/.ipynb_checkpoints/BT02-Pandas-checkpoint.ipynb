{
 "cells": [
  {
   "cell_type": "markdown",
   "metadata": {},
   "source": [
    "# BT02: Pandas\n",
    "\n",
    "Họ tên: Trần Mạnh Thắng\n",
    "\n",
    "MSSV: 1612892"
   ]
  },
  {
   "cell_type": "markdown",
   "metadata": {
    "Collapsed": "false"
   },
   "source": [
    "---\n",
    "## Cách làm bài và nộp bài\n",
    "&#9889; Bạn lưu ý là mình sẽ dùng chương trình hỗ trợ chấm bài nên bạn cần phải tuân thủ chính xác qui định mà mình đặt ra, nếu không rõ thì hỏi, chứ không nên tự tiện làm theo ý của cá nhân.\n",
    "\n",
    "**Cách làm bài**\n",
    "\n",
    "Bạn sẽ làm trực tiếp trên file notebook này. Đầu tiên, bạn điền họ tên và MSSV vào phần đầu file ở bên trên. Trong file, bạn làm bài ở những chỗ có ghi là:\n",
    "```python\n",
    "# YOUR CODE HERE\n",
    "raise NotImplementedError()\n",
    "```\n",
    "hoặc đối với những phần code không bắt buộc thì là:\n",
    "```python\n",
    "# YOUR CODE HERE (OPTION)\n",
    "```\n",
    "hoặc đối với markdown cell thì là:\n",
    "```markdown\n",
    "YOUR ANSWER HERE\n",
    "```\n",
    "Tất nhiên, khi làm thì bạn xóa dòng `raise NotImplementedError()` đi.\n",
    "Đối những phần yêu cầu code thì thường ở ngay phía dưới sẽ có một (hoặc một số) cell chứa các bộ test để giúp bạn biết đã code đúng hay chưa; nếu chạy cell này không có lỗi gì thì có nghĩa là qua được các bộ test. Trong một số trường hợp, các bộ test có thể sẽ không đầy đủ; nghĩa là, nếu không qua được test thì là code sai, nhưng nếu qua được test thì chưa chắc đã đúng.\n",
    "\n",
    "Trong khi làm bài, bạn có thể cho in ra màn hình, tạo thêm các cell để test. Nhưng khi nộp bài thì bạn xóa các cell mà bạn tự tạo, xóa hoặc comment các câu lệnh in ra màn hình. Bạn lưu ý <font color=red>không được tự tiện xóa các cell hay sửa code của Thầy</font> (trừ những chỗ được phép sửa như đã nói ở trên).\n",
    "\n",
    "Trong khi làm bài, thường xuyên `Ctrl + S` để lưu lại bài làm của bạn, tránh mất mát thông tin.\n",
    "\n",
    "\n",
    "*Nên nhớ mục tiêu chính ở đây là <font color=green>học, học một cách chân thật</font>. Bạn có thể thảo luận ý tưởng với bạn khác, nhưng <font color=green>code và bài làm phải là của bạn, dựa trên sự hiểu thật sự của bạn</font>. <font color=red>Nếu vi phạm thì sẽ bị 0 điểm cho toàn bộ môn học.</font>*\n",
    "\n",
    "**Cách nộp bài**\n",
    "\n",
    "Khi chấm bài, đầu tiên mình sẽ chọn `Kernel` - `Restart Kernel & Run All Cells`, để restart và chạy tất cả các cell trong notebook của bạn; do đó, trước khi nộp bài, bạn nên chạy thử `Kernel` - `Restart Kernel & Run All Cells` để đảm bảo mọi chuyện diễn ra đúng như mong đợi.\n",
    "\n",
    "Sau đó, bạn tạo thư mục nộp bài theo cấu trúc sau:\n",
    "- Thư mục `MSSV` (vd, nếu bạn có MSSV là 1234567 thì bạn đặt tên thư mục là `1234567`)\n",
    "    - Thư mục `BT02`\n",
    "        - File `BT02-Pandas.ipynb` (không cần nộp các file khác)\n",
    "\n",
    "Cuối cùng, bạn nén thư mục `MSSV` này lại và nộp ở link trên moodle. <font color=red>Bạn lưu ý tuân thủ chính xác cấu trúc này.</font>"
   ]
  },
  {
   "cell_type": "markdown",
   "metadata": {},
   "source": [
    "---\n",
    "## Mô tả dữ liệu\n",
    "Dữ liệu được dùng trong bài tập này là file \"mvt.csv\" đính kèm - đây là dữ liệu về tội phạm ăn cắp xe ở thành phố Chicago, bang Illinois, Hoa Kỳ (\"mvt\" là viết tắt của \"motor vehicle theft\"). Dữ liệu này được lấy từ khóa học \"The Analytics Edge\" ở trang edx.org, và gốc của dữ liệu là [ở đây](https://data.cityofchicago.org/Public-Safety/Crimes-2001-to-present/ijzp-q8t2).\n",
    "\n",
    "Dưới đây là phần mô tả của khóa học \"The Analytics Edge\" về các cột trong file \"mvt.csv\":\n",
    "- **ID**: a unique identifier for each observation.\n",
    "- **Date**: the date the crime occurred.\n",
    "- **LocationDescription**: the location where the crime occurred.\n",
    "- **Arrest**: whether or not an arrest was made for the crime (TRUE if an arrest was made, and FALSE if an arrest was not made).\n",
    "- **Domestic**: whether or not the crime was a domestic crime, meaning that it was committed against a family member (TRUE if it was domestic, and FALSE if it was not domestic).\n",
    "- **Beat**: the area, or \"beat\" in which the crime occurred. This is the smallest regional division defined by the Chicago police department.\n",
    "- **District**: the police district in which the crime occured. Each district is composed of many beats, and are defined by the Chicago Police Department.\n",
    "- **CommunityArea**: the community area in which the crime occurred. Since the 1920s, Chicago has been divided into what are called \"community areas\", of which there are now 77. The community areas were devised in an attempt to create socially homogeneous regions.\n",
    "- **Year**: the year in which the crime occurred.\n",
    "- **Latitude**: the latitude of the location at which the crime occurred.\n",
    "- **Longitude**: the longitude of the location at which the crime occurred."
   ]
  },
  {
   "cell_type": "markdown",
   "metadata": {},
   "source": [
    "---\n",
    "## Import"
   ]
  },
  {
   "cell_type": "code",
   "execution_count": 1,
   "metadata": {},
   "outputs": [],
   "source": [
    "%matplotlib inline\n",
    "import pandas as pd\n",
    "# YOUR CODE HERE (OPTION) \n",
    "# Nếu cần các thư viện khác thì bạn có thể import ở đây\n",
    "from datetime import datetime\n",
    "import numpy as np\n",
    "import matplotlib.pyplot as plt"
   ]
  },
  {
   "cell_type": "markdown",
   "metadata": {},
   "source": [
    "---\n",
    "## Đọc dữ liệu từ file csv vào dataframe"
   ]
  },
  {
   "cell_type": "code",
   "execution_count": 2,
   "metadata": {},
   "outputs": [
    {
     "name": "stderr",
     "output_type": "stream",
     "text": [
      "C:\\Users\\DELL\\Anaconda3\\lib\\site-packages\\IPython\\core\\interactiveshell.py:3057: DtypeWarning: Columns (6,7) have mixed types. Specify dtype option on import or set low_memory=False.\n",
      "  interactivity=interactivity, compiler=compiler, result=result)\n"
     ]
    },
    {
     "data": {
      "text/html": [
       "<div>\n",
       "<style scoped>\n",
       "    .dataframe tbody tr th:only-of-type {\n",
       "        vertical-align: middle;\n",
       "    }\n",
       "\n",
       "    .dataframe tbody tr th {\n",
       "        vertical-align: top;\n",
       "    }\n",
       "\n",
       "    .dataframe thead th {\n",
       "        text-align: right;\n",
       "    }\n",
       "</style>\n",
       "<table border=\"1\" class=\"dataframe\">\n",
       "  <thead>\n",
       "    <tr style=\"text-align: right;\">\n",
       "      <th></th>\n",
       "      <th>ID</th>\n",
       "      <th>Date</th>\n",
       "      <th>LocationDescription</th>\n",
       "      <th>Arrest</th>\n",
       "      <th>Domestic</th>\n",
       "      <th>Beat</th>\n",
       "      <th>District</th>\n",
       "      <th>CommunityArea</th>\n",
       "      <th>Year</th>\n",
       "      <th>Latitude</th>\n",
       "      <th>Longitude</th>\n",
       "    </tr>\n",
       "  </thead>\n",
       "  <tbody>\n",
       "    <tr>\n",
       "      <th>0</th>\n",
       "      <td>8951354</td>\n",
       "      <td>12/31/12 23:15</td>\n",
       "      <td>STREET</td>\n",
       "      <td>False</td>\n",
       "      <td>False</td>\n",
       "      <td>623</td>\n",
       "      <td>6</td>\n",
       "      <td>69</td>\n",
       "      <td>2012</td>\n",
       "      <td>41.756284</td>\n",
       "      <td>-87.621645</td>\n",
       "    </tr>\n",
       "    <tr>\n",
       "      <th>1</th>\n",
       "      <td>8951141</td>\n",
       "      <td>12/31/12 22:00</td>\n",
       "      <td>STREET</td>\n",
       "      <td>False</td>\n",
       "      <td>False</td>\n",
       "      <td>1213</td>\n",
       "      <td>12</td>\n",
       "      <td>24</td>\n",
       "      <td>2012</td>\n",
       "      <td>41.898788</td>\n",
       "      <td>-87.661303</td>\n",
       "    </tr>\n",
       "    <tr>\n",
       "      <th>2</th>\n",
       "      <td>8952745</td>\n",
       "      <td>12/31/12 22:00</td>\n",
       "      <td>RESIDENTIAL YARD (FRONT/BACK)</td>\n",
       "      <td>False</td>\n",
       "      <td>False</td>\n",
       "      <td>1622</td>\n",
       "      <td>16</td>\n",
       "      <td>11</td>\n",
       "      <td>2012</td>\n",
       "      <td>41.969186</td>\n",
       "      <td>-87.767670</td>\n",
       "    </tr>\n",
       "    <tr>\n",
       "      <th>3</th>\n",
       "      <td>8952223</td>\n",
       "      <td>12/31/12 22:00</td>\n",
       "      <td>STREET</td>\n",
       "      <td>False</td>\n",
       "      <td>False</td>\n",
       "      <td>724</td>\n",
       "      <td>7</td>\n",
       "      <td>67</td>\n",
       "      <td>2012</td>\n",
       "      <td>41.769329</td>\n",
       "      <td>-87.657726</td>\n",
       "    </tr>\n",
       "    <tr>\n",
       "      <th>4</th>\n",
       "      <td>8951608</td>\n",
       "      <td>12/31/12 21:30</td>\n",
       "      <td>STREET</td>\n",
       "      <td>False</td>\n",
       "      <td>False</td>\n",
       "      <td>211</td>\n",
       "      <td>2</td>\n",
       "      <td>35</td>\n",
       "      <td>2012</td>\n",
       "      <td>41.837568</td>\n",
       "      <td>-87.621761</td>\n",
       "    </tr>\n",
       "  </tbody>\n",
       "</table>\n",
       "</div>"
      ],
      "text/plain": [
       "        ID            Date            LocationDescription  Arrest  Domestic  \\\n",
       "0  8951354  12/31/12 23:15                         STREET   False     False   \n",
       "1  8951141  12/31/12 22:00                         STREET   False     False   \n",
       "2  8952745  12/31/12 22:00  RESIDENTIAL YARD (FRONT/BACK)   False     False   \n",
       "3  8952223  12/31/12 22:00                         STREET   False     False   \n",
       "4  8951608  12/31/12 21:30                         STREET   False     False   \n",
       "\n",
       "   Beat District CommunityArea  Year   Latitude  Longitude  \n",
       "0   623        6            69  2012  41.756284 -87.621645  \n",
       "1  1213       12            24  2012  41.898788 -87.661303  \n",
       "2  1622       16            11  2012  41.969186 -87.767670  \n",
       "3   724        7            67  2012  41.769329 -87.657726  \n",
       "4   211        2            35  2012  41.837568 -87.621761  "
      ]
     },
     "execution_count": 2,
     "metadata": {},
     "output_type": "execute_result"
    }
   ],
   "source": [
    "mvt_df = pd.read_csv(\"mvt.csv\")\n",
    "mvt_df.head()"
   ]
  },
  {
   "cell_type": "markdown",
   "metadata": {},
   "source": [
    "---\n",
    "## 1. Xem số dòng, số cột, và các giá trị thiếu (1đ)\n",
    "Nhìn vào kết quả của câu lệnh `mvt_df.info()` và cho biết:\n",
    "- `mvt_df` có bao nhiêu dòng và bao nhiêu cột? Bạn chỉ cần điền cứng kết quả vào hai biến `num_rows` và `num_cols` ở dưới là được.\n",
    "- `mvt_df` có những cột nào có giá trị thiếu (null/na) và có bao nhiêu giá trị thiếu? Bạn chỉ cần điền cứng kết quả vào dictionary `na_counts` ở dưới, trong đó: key là tên cột có giá trị thiếu, và value là số lượng giá trị thiếu tương ứng."
   ]
  },
  {
   "cell_type": "code",
   "execution_count": 3,
   "metadata": {},
   "outputs": [
    {
     "name": "stdout",
     "output_type": "stream",
     "text": [
      "<class 'pandas.core.frame.DataFrame'>\n",
      "RangeIndex: 191641 entries, 0 to 191640\n",
      "Data columns (total 11 columns):\n",
      "ID                     191641 non-null int64\n",
      "Date                   191641 non-null object\n",
      "LocationDescription    191641 non-null object\n",
      "Arrest                 191641 non-null bool\n",
      "Domestic               191641 non-null bool\n",
      "Beat                   191641 non-null int64\n",
      "District               148589 non-null object\n",
      "CommunityArea          167038 non-null object\n",
      "Year                   191641 non-null int64\n",
      "Latitude               189365 non-null float64\n",
      "Longitude              189365 non-null float64\n",
      "dtypes: bool(2), float64(2), int64(3), object(4)\n",
      "memory usage: 13.5+ MB\n"
     ]
    }
   ],
   "source": [
    "mvt_df.info()"
   ]
  },
  {
   "cell_type": "code",
   "execution_count": 4,
   "metadata": {
    "deletable": false,
    "nbgrader": {
     "cell_type": "code",
     "checksum": "755c92ee1ffa0594772c45f582ced3bf",
     "grade": false,
     "grade_id": "cell-67ad53ac852a545e",
     "locked": false,
     "schema_version": 3,
     "solution": true
    }
   },
   "outputs": [],
   "source": [
    "num_rows = 0 # Số dòng\n",
    "num_cols = 0 # Số cột\n",
    "na_counts = {} # Dictionary chứa tên các cột có giá trị thiếu \n",
    "               # và số lượng giá trị thiếu tương ứng\n",
    "# YOUR CODE HERE\n",
    "num_rows = len(mvt_df)\n",
    "num_cols = mvt_df.shape[1]\n",
    "for col in mvt_df:\n",
    "    if(mvt_df[col].isnull().sum() != 0):\n",
    "        na_counts[col] = mvt_df[col].isnull().sum()"
   ]
  },
  {
   "cell_type": "code",
   "execution_count": 5,
   "metadata": {
    "deletable": false,
    "editable": false,
    "nbgrader": {
     "cell_type": "code",
     "checksum": "7ff75c10b3b9147ab4827ad31498e252",
     "grade": true,
     "grade_id": "cell-cb30f534afe14d28",
     "locked": true,
     "points": 1,
     "schema_version": 3,
     "solution": false
    }
   },
   "outputs": [],
   "source": [
    "# TEST\n",
    "assert num_rows > 190000\n",
    "assert num_cols > 10\n",
    "assert len(na_counts) == 4\n",
    "assert na_counts[\"District\"] > 43000\n",
    "assert na_counts[\"CommunityArea\"] > 24000\n",
    "assert na_counts[\"Latitude\"] > 2000\n",
    "assert na_counts[\"Longitude\"] > 2000"
   ]
  },
  {
   "cell_type": "markdown",
   "metadata": {},
   "source": [
    "---\n",
    "## 2. Mở kiểu dữ liệu object (1đ)\n",
    "Nhìn vào kết quả của câu lệnh `mvt_df.info()`, ta thấy có 4 cột có `dtype` là `object` (`dtype` ám chỉ kiểu dữ liệu của các phần tử trong cột, chứ không phải kiểu dữ liệu của cột, cột có kiểu dữ liệu là series): `Date`, `LocationDescription`, `District`, `CommunityArea`. Trong Pandas, kiểu dữ liệu `object` thường ám chỉ chuỗi, nhưng thật ra kiểu dữ liệu `object` có thể chứa một đối tượng bất kỳ trong Python (vì thật ra ở bên dưới kiểu dữ liệu `object` chứa địa chỉ). Nếu một cột trong dataframe có `dtype` là `object` thì có thể các phần tử trong cột này sẽ có kiểu dữ liệu khác nhau; để biết được kiểu dữ liệu thật sự của các phần tử trong cột này thì ta phải truy xuất vào từng phần tử và dùng câu lệnh `type` để xem kiểu dữ liệu, ví dụ `type(s.iloc[i])` với `s` là một cột. Lúc đọc dữ liệu từ file \"mvt.csv\" lên, nếu bạn để ý thì sẽ thấy warning là: `Columns (6,7) have mixed types`, nghĩa là cột 6 (`District`) và 7 (`CommunityArea`) có `dtype` không đồng nhất (trong nội bộ mỗi cột). Ta muốn xem thử trong nội bộ mỗi cột này có các kiểu dữ liệu nào.\n",
    "\n",
    "Công việc của bạn là viết hàm nhận đầu vào là một cột (series) có `dtype` là `object` và trả về tập các kiểu dữ liệu thật sự có trong cột này."
   ]
  },
  {
   "cell_type": "code",
   "execution_count": 6,
   "metadata": {
    "deletable": false,
    "nbgrader": {
     "cell_type": "code",
     "checksum": "3d66b7d9899c26fd8f560ee7e57127de",
     "grade": false,
     "grade_id": "cell-bff98f5183b2dd1c",
     "locked": false,
     "schema_version": 3,
     "solution": true
    }
   },
   "outputs": [],
   "source": [
    "def open_object_dtype(s):\n",
    "    \"\"\"\n",
    "    Tìm tập các kiểu dữ liệu có trong series s (s có dtype là object).\n",
    "    \"\"\"\n",
    "    dtypes = set()\n",
    "    \n",
    "    # YOUR CODE HERE\n",
    "    for i in range(len(s)):\n",
    "        dtypes.add(type(s[i]))\n",
    "    \n",
    "    return dtypes"
   ]
  },
  {
   "cell_type": "code",
   "execution_count": 7,
   "metadata": {
    "deletable": false,
    "editable": false,
    "nbgrader": {
     "cell_type": "code",
     "checksum": "dc69d9623422337444c60fdf6def3397",
     "grade": true,
     "grade_id": "cell-c74acde905565cc8",
     "locked": true,
     "points": 1,
     "schema_version": 3,
     "solution": false
    }
   },
   "outputs": [],
   "source": [
    "# TEST\n",
    "assert open_object_dtype(mvt_df.Date) == {str}\n",
    "assert open_object_dtype(mvt_df.LocationDescription) == {str}\n",
    "assert open_object_dtype(mvt_df.District) == {str, float}\n",
    "assert open_object_dtype(mvt_df.CommunityArea) == {str, float}"
   ]
  },
  {
   "cell_type": "code",
   "execution_count": 8,
   "metadata": {},
   "outputs": [
    {
     "name": "stdout",
     "output_type": "stream",
     "text": [
      "nan\n",
      "<class 'float'>\n"
     ]
    }
   ],
   "source": [
    "# float ở 2 cột District và CommunityArea chính là nan (giá trị thiếu)\n",
    "print(mvt_df.District[36]) # Một giá trị nan trong cột District\n",
    "print(type(mvt_df.District[36]))"
   ]
  },
  {
   "cell_type": "markdown",
   "metadata": {},
   "source": [
    "---\n",
    "## 3. Xử lý kiểu dữ liệu thời gian (1đ)\n",
    "Hiện giờ, cột `Date` có `dtype` là `object` (`str`). Công việc tiếp theo của bạn là:\n",
    "1. Chuyển `dtype` của cột `Date` sang kiểu dữ liệu thời gian bằng câu lệnh `pd.to_datetime` (sau khi làm xong thì cột `Date` trong `mvt_df` phải thay đổi `dtype`). Khi dùng `pd.to_datetime`, bạn truyền tham số `format=\"%m/%d/%y %H:%M\"` (nếu không thì sẽ chạy rất chậm vì Pandas phải đoán format).\n",
    "2. Thêm cột `Month` - tháng trong cột `Date` - vào `mvt_df`.\n",
    "3. Thêm cột `WeekDay` - ngày trong tuần trong cột `Date` - vào `mvt_df` (0 là thứ hai, 1 là thứ ba, ..., 6 là chủ nhật).\n",
    "4. Dùng phương thức `min` và `max` của cột `Date`, cho biết dữ liệu là từ thời điểm nào đến thời điểm nào? Bạn lưu kết quả vào hai biến `min_date` và `max_date`."
   ]
  },
  {
   "cell_type": "code",
   "execution_count": 9,
   "metadata": {},
   "outputs": [],
   "source": [
    "mvt_df['Date'] = pd.to_datetime(mvt_df['Date'],format=\"%m/%d/%y %H:%M\")\n",
    "mvt_df['Month'] = mvt_df.Date.dt.month"
   ]
  },
  {
   "cell_type": "code",
   "execution_count": 10,
   "metadata": {
    "deletable": false,
    "nbgrader": {
     "cell_type": "code",
     "checksum": "931779586eddda1443efdb98210e0a32",
     "grade": false,
     "grade_id": "cell-4471ff481055fed4",
     "locked": false,
     "schema_version": 3,
     "solution": true
    }
   },
   "outputs": [],
   "source": [
    "min_date = pd.Timestamp(\"\")\n",
    "max_date = pd.Timestamp(\"\")\n",
    "# YOUR CODE HERE\n",
    "mvt_df['Date'] = pd.to_datetime(mvt_df['Date'],format=\"%m/%d/%y %H:%M\")\n",
    "mvt_df['Month'] = mvt_df.Date.dt.month\n",
    "mvt_df['WeekDay'] = mvt_df.Date.dt.dayofweek\n",
    "min_date = min(mvt_df.Date)\n",
    "max_date = max(mvt_df.Date)"
   ]
  },
  {
   "cell_type": "code",
   "execution_count": 11,
   "metadata": {
    "deletable": false,
    "editable": false,
    "nbgrader": {
     "cell_type": "code",
     "checksum": "91cb912cc2c2a04c2f58a71e8d2e54b1",
     "grade": true,
     "grade_id": "cell-43bfb9a4d84b1507",
     "locked": true,
     "points": 1,
     "schema_version": 3,
     "solution": false
    }
   },
   "outputs": [],
   "source": [
    "# TEST\n",
    "assert all(mvt_df.Month == mvt_df.Date.dt.month)\n",
    "assert all(mvt_df.WeekDay == mvt_df.Date.dt.dayofweek)\n",
    "assert min_date == pd.Timestamp(\"2001-01-01 00:01:00\")\n",
    "assert max_date == pd.Timestamp(\"2012-12-31 23:15:00\")"
   ]
  },
  {
   "cell_type": "markdown",
   "metadata": {},
   "source": [
    "---\n",
    "## 4. Vẽ đồ thị 1 (1đ)\n",
    "Để có cảm nhận sơ bộ về sự thay đổi số lượng các vụ phạm tội theo thời gian, bạn hãy vẽ histogram (dạng không chuẩn hóa) của cột `Date` bằng phương thức `hist` của cột `Date` với số lượng bin là 50. Bạn đặt tên trục hoành là `Date` và tên trục tung là `Num crimes`. "
   ]
  },
  {
   "cell_type": "code",
   "execution_count": 12,
   "metadata": {
    "deletable": false,
    "nbgrader": {
     "cell_type": "code",
     "checksum": "d2c6767b844f7cd88ef935eae240f75c",
     "grade": true,
     "grade_id": "cell-33e173b1ceb218c6",
     "locked": false,
     "points": 1,
     "schema_version": 3,
     "solution": true
    }
   },
   "outputs": [
    {
     "name": "stderr",
     "output_type": "stream",
     "text": [
      "C:\\Users\\DELL\\Anaconda3\\lib\\site-packages\\pandas\\plotting\\_converter.py:129: FutureWarning: Using an implicitly registered datetime converter for a matplotlib plotting method. The converter was registered by pandas on import. Future versions of pandas will require you to explicitly register matplotlib converters.\n",
      "\n",
      "To register the converters:\n",
      "\t>>> from pandas.plotting import register_matplotlib_converters\n",
      "\t>>> register_matplotlib_converters()\n",
      "  warnings.warn(msg, FutureWarning)\n"
     ]
    },
    {
     "data": {
      "text/plain": [
       "Text(0, 0.5, 'Num crimes')"
      ]
     },
     "execution_count": 12,
     "metadata": {},
     "output_type": "execute_result"
    },
    {
     "data": {
      "image/png": "[encoded data removed]",
      "text/plain": [
       "<Figure size 432x288 with 1 Axes>"
      ]
     },
     "metadata": {
      "needs_background": "light"
     },
     "output_type": "display_data"
    }
   ],
   "source": [
    "# YOUR CODE HERE\n",
    "histogram = mvt_df['Date'].hist(bins = 50, grid=False, ec=\"black\", density=False)\n",
    "histogram.set_xlabel(\"Date\")\n",
    "histogram.set_ylabel(\"Num crimes\")"
   ]
  },
  {
   "cell_type": "markdown",
   "metadata": {},
   "source": [
    "---\n",
    "## 5. Gom nhóm 1 (1đ)\n",
    "Cho biết (dùng `groupby`): \n",
    "- Năm nào có số lượng vụ phạm tội nhiều nhất? Bạn lưu kết quả vào biến `bad_year`.\n",
    "- Tháng nào có số lượng vụ phạm tội nhiều nhất? Bạn lưu kết quả vào biến `bad_month`.\n",
    "- Ngày nào trong tuần có số lượng vụ phạm tội nhiều nhất? Bạn lưu kết quả vào biến `bad_week_day`."
   ]
  },
  {
   "cell_type": "code",
   "execution_count": 13,
   "metadata": {
    "deletable": false,
    "nbgrader": {
     "cell_type": "code",
     "checksum": "c84431532b91afb66bdbb86f010f5349",
     "grade": false,
     "grade_id": "cell-5978daf2f1019f91",
     "locked": false,
     "schema_version": 3,
     "solution": true
    }
   },
   "outputs": [
    {
     "name": "stderr",
     "output_type": "stream",
     "text": [
      "C:\\Users\\DELL\\Anaconda3\\lib\\site-packages\\numpy\\core\\fromnumeric.py:56: FutureWarning: \n",
      "The current behaviour of 'Series.argmax' is deprecated, use 'idxmax'\n",
      "instead.\n",
      "The behavior of 'argmax' will be corrected to return the positional\n",
      "maximum in the future. For now, use 'series.values.argmax' or\n",
      "'np.argmax(np.array(values))' to get the position of the maximum\n",
      "row.\n",
      "  return getattr(obj, method)(*args, **kwds)\n"
     ]
    }
   ],
   "source": [
    "bad_year = 0; bad_month = 0; bad_week_day = 0\n",
    "# YOUR CODE HERE\n",
    "bad_year = np.argmax((mvt_df.groupby(mvt_df.Date.dt.year).agg('size')))\n",
    "bad_month = np.argmax((mvt_df.groupby(mvt_df.Month).agg('size')))\n",
    "bad_week_day = np.argmax((mvt_df.groupby(mvt_df.WeekDay).agg('size')))"
   ]
  },
  {
   "cell_type": "code",
   "execution_count": 14,
   "metadata": {
    "deletable": false,
    "editable": false,
    "nbgrader": {
     "cell_type": "code",
     "checksum": "931422b4fe14e7ff01127780d5e13af3",
     "grade": true,
     "grade_id": "cell-246c3835cb636a60",
     "locked": true,
     "points": 1,
     "schema_version": 3,
     "solution": false
    }
   },
   "outputs": [],
   "source": [
    "# TEST\n",
    "assert bad_year == 2001\n",
    "assert bad_month == 10\n",
    "assert bad_week_day == 4"
   ]
  },
  {
   "cell_type": "markdown",
   "metadata": {},
   "source": [
    "---\n",
    "## 6. Gom nhóm 2 (1đ)\n",
    "Cho biết tỉ lệ các vụ phạm tội mà đã bắt được thủ phạm trong mỗi năm (tỉ lệ của mỗi năm được tính bằng cách lấy <font color=blue>số vụ phạm tội trong năm đó mà đã bắt được thủ phạm</font> chia cho <font color=blue>tổng số vụ phạm tội trong năm đó</font>)? Bạn lưu kết quả vào series `arrest_proportions` ở dưới (với index là năm). Gợi ý: bạn có thể gom nhóm bằng list các tên cột, sau đó có thể dùng phương thức `unstack` để tổ chức lại dữ liệu và dễ dàng tính toán."
   ]
  },
  {
   "cell_type": "code",
   "execution_count": 15,
   "metadata": {
    "deletable": false,
    "nbgrader": {
     "cell_type": "code",
     "checksum": "d93a009304b2941b0806694bfef73091",
     "grade": false,
     "grade_id": "cell-c44b745e9b5ecde6",
     "locked": false,
     "schema_version": 3,
     "solution": true
    }
   },
   "outputs": [],
   "source": [
    "arrest_proportions = pd.Series()\n",
    "# YOUR CODE HERE\n",
    "df_1 = mvt_df.groupby('Year').size()\n",
    "df_2 = mvt_df[mvt_df['Arrest'] == True].groupby('Year').size()\n",
    "arrest_proportions = df_2.div(df_1)"
   ]
  },
  {
   "cell_type": "code",
   "execution_count": 16,
   "metadata": {
    "deletable": false,
    "editable": false,
    "nbgrader": {
     "cell_type": "code",
     "checksum": "aa080d63ec8cd2a8ecf838c5855befef",
     "grade": true,
     "grade_id": "cell-faee661af8250853",
     "locked": true,
     "points": 1,
     "schema_version": 3,
     "solution": false
    }
   },
   "outputs": [],
   "source": [
    "# TEST\n",
    "assert f\"{arrest_proportions.loc[2001]:.3f}\" == \"0.104\"\n",
    "assert f\"{arrest_proportions.loc[2006]:.3f}\" == \"0.081\"\n",
    "assert f\"{arrest_proportions.loc[2012]:.3f}\" == \"0.039\""
   ]
  },
  {
   "cell_type": "markdown",
   "metadata": {},
   "source": [
    "---\n",
    "## 7. Vẽ đồ thị 2 (1đ)\n",
    "Sau khi tính được series `arrest_proportions` ở trên, để có cảm nhận rõ hơn về sự thay đổi tỉ lệ các vụ phạm tội mà đã bắt được thủ phạm qua các năm, bạn dùng phương thức `plot` của series `arrest_proportions` để vẽ đồ thị dạng line.\n",
    "- Trục hoành là năm. Bạn đặt tên là `Year`.\n",
    "- Trục tung là tỉ lệ bị bắt. Bạn đặt tên là `Arrest proportion`. Bạn cũng cần phải chỉnh lại miền giá trị của trục tung là từ 0 đến 1."
   ]
  },
  {
   "cell_type": "code",
   "execution_count": 17,
   "metadata": {
    "deletable": false,
    "nbgrader": {
     "cell_type": "code",
     "checksum": "b48baf98d209007dcad313ed2ba580dc",
     "grade": true,
     "grade_id": "cell-84eac7aaa03790b3",
     "locked": false,
     "points": 0.5,
     "schema_version": 3,
     "solution": true
    }
   },
   "outputs": [
    {
     "data": {
      "text/plain": [
       "(0, 1)"
      ]
     },
     "execution_count": 17,
     "metadata": {},
     "output_type": "execute_result"
    },
    {
     "data": {
      "image/png": "[encoded data removed]",
      "text/plain": [
       "<Figure size 432x288 with 1 Axes>"
      ]
     },
     "metadata": {
      "needs_background": "light"
     },
     "output_type": "display_data"
    }
   ],
   "source": [
    "# YOUR CODE HERE\n",
    "plotline = arrest_proportions.plot.line()\n",
    "plotline.set_xlabel('Year')\n",
    "plotline.set_ylabel('Arrest proportion')\n",
    "plotline.set_ylim([0,1])"
   ]
  },
  {
   "cell_type": "markdown",
   "metadata": {},
   "source": [
    "Bạn sẽ thấy tỉ lệ bị bắt nhìn chung là giảm trong các năm gần đây. Tại sao lại như vậy? Về cơ bản là ta không biết chắc được. Nhưng bạn thử suy nghĩ và đưa ra một giả thuyết để giải thích cho xu hướng này dựa vào thông tin sau: dữ liệu này được thu thập vào khoảng năm 2013-2014 (thời điểm ra đời của khóa học \"The Analytics Edge\")."
   ]
  },
  {
   "cell_type": "markdown",
   "metadata": {
    "deletable": false,
    "nbgrader": {
     "cell_type": "markdown",
     "checksum": "e1aaa7e145ed903fdbdb77eb02783294",
     "grade": true,
     "grade_id": "cell-b5fb9a5a4169d994",
     "locked": false,
     "points": 0.5,
     "schema_version": 3,
     "solution": true
    }
   },
   "source": [
    "YOUR ANSWER HERE\n",
    "\n",
    "Do dữ liệu được thu thập vào khoảng năm 2013-2014, nên những dữ liệu của thời gian trước đó có thể không được thu thập, báo cáo đầy đủ hoặc do những tai nạn gây ra việc mất mát dữ liệu (như bị cháy nổ). "
   ]
  },
  {
   "cell_type": "markdown",
   "metadata": {},
   "source": [
    "---\n",
    "## 8. Đếm số lần xuất hiện của giá trị (1đ)\n",
    "Cho biết 5 loại địa điểm (dữ liệu về loại địa điểm lưu ở cột `LocationDescription`) mà xảy ra nhiều vụ phạm tội nhất (không tính loại địa điểm `OTHER`)? Bạn lưu kết quả vào list `top5_locations` ở dưới."
   ]
  },
  {
   "cell_type": "code",
   "execution_count": 18,
   "metadata": {
    "deletable": false,
    "nbgrader": {
     "cell_type": "code",
     "checksum": "e288149ba0c02df4481aa9feda4e0a87",
     "grade": false,
     "grade_id": "cell-2d23e94fd354ea7a",
     "locked": false,
     "schema_version": 3,
     "solution": true
    }
   },
   "outputs": [],
   "source": [
    "top5_locations = [] # List\n",
    "# YOUR CODE HERE\n",
    "locate = mvt_df[mvt_df['LocationDescription'] != 'OTHER'].groupby('LocationDescription').size()\n",
    "top5_locations = locate.nlargest(5, keep='all').index"
   ]
  },
  {
   "cell_type": "code",
   "execution_count": 19,
   "metadata": {
    "deletable": false,
    "editable": false,
    "nbgrader": {
     "cell_type": "code",
     "checksum": "98c7ea97f7fd8b426f17fd18fb6228aa",
     "grade": true,
     "grade_id": "cell-9dcad232b3c5a2f4",
     "locked": true,
     "points": 1,
     "schema_version": 3,
     "solution": false
    }
   },
   "outputs": [],
   "source": [
    "# TEST \n",
    "assert set(top5_locations) == set(['STREET', 'PARKING LOT/GARAGE(NON.RESID.)', 'ALLEY', 'GAS STATION', 'DRIVEWAY - RESIDENTIAL'])"
   ]
  },
  {
   "cell_type": "markdown",
   "metadata": {},
   "source": [
    "---\n",
    "## 9. Lọc các dòng theo điều kiện (1đ)\n",
    "Tìm các dòng trong `mvt_df` có giá trị `LocationDescription` thuộc `top5_locations` ở câu trước. Bạn lưu kết quả vào dataframe `top5_locations_df`."
   ]
  },
  {
   "cell_type": "code",
   "execution_count": 20,
   "metadata": {
    "deletable": false,
    "nbgrader": {
     "cell_type": "code",
     "checksum": "406b2b6bbdaef2b073d0482d95f17d60",
     "grade": false,
     "grade_id": "cell-aa0201e7806cc65f",
     "locked": false,
     "schema_version": 3,
     "solution": true
    }
   },
   "outputs": [],
   "source": [
    " #YOUR CODE HERE\n",
    "top5_locations_df = mvt_df[mvt_df['LocationDescription'] == top5_locations[0]]\n",
    "for x in range(1, len(top5_locations)):\n",
    "    top5_locations_df = top5_locations_df.append(mvt_df[mvt_df['LocationDescription'] == top5_locations[x]])"
   ]
  },
  {
   "cell_type": "code",
   "execution_count": 21,
   "metadata": {
    "deletable": false,
    "editable": false,
    "nbgrader": {
     "cell_type": "code",
     "checksum": "d08d5aec14115b992f225c52b2496346",
     "grade": true,
     "grade_id": "cell-729cd3a97ce3e347",
     "locked": true,
     "points": 1,
     "schema_version": 3,
     "solution": false
    }
   },
   "outputs": [],
   "source": [
    "# Test\n",
    "assert top5_locations_df.shape == (177510, 13)\n",
    "assert set(top5_locations_df.LocationDescription.unique()) == set(['STREET', 'PARKING LOT/GARAGE(NON.RESID.)', 'ALLEY', 'GAS STATION', 'DRIVEWAY - RESIDENTIAL'])"
   ]
  },
  {
   "cell_type": "markdown",
   "metadata": {},
   "source": [
    "---\n",
    "## 10. Vẽ đồ thị 3 (1đ)\n",
    "Từ `top5_locations_df` ở trên, vẽ đồ thị dạng cột (bar chart), trong đó:  trục hoành là loại địa điểm, trục tung là số lượng vụ phạm tội. Như vậy, mỗi cột sẽ ứng với một loại địa điểm, và chiều cao của cột ứng với số lượng vụ phạm tội tại loại địa điểm đó. Tuy nhiên, trong mỗi cột phải chia làm 2 phần (dùng 2 màu khác nhau): một phần ứng với số lượng các vụ án mà đã bắt được thủ phạm, và một phần ứng với số lượng các vụ án mà chưa bắt được thủ phạm. Bạn xem thêm hình mẫu bên dưới để hiểu cần vẽ như thế nào (không cần chính xác 100% như hình mẫu; ví dụ, màu sắc có thể khác).\n",
    "\n",
    "<img src=\"BT02-barchart.png\"/>"
   ]
  },
  {
   "cell_type": "code",
   "execution_count": 22,
   "metadata": {
    "deletable": false,
    "nbgrader": {
     "cell_type": "code",
     "checksum": "c583a9651e88c1a551d00d94c7f9b0f0",
     "grade": true,
     "grade_id": "cell-b3ecdeb359aee8c3",
     "locked": false,
     "points": 1,
     "schema_version": 3,
     "solution": true
    }
   },
   "outputs": [
    {
     "data": {
      "image/png": "[encoded data removed]",
      "text/plain": [
       "<Figure size 432x288 with 1 Axes>"
      ]
     },
     "metadata": {
      "needs_background": "light"
     },
     "output_type": "display_data"
    }
   ],
   "source": [
    "# YOUR CODE HERE\n",
    "temp = top5_locations_df.sort_values(by=['LocationDescription'])\n",
    "arrested = temp[temp['Arrest'] == True].groupby('LocationDescription').size()\n",
    "not_arrested = temp[temp['Arrest'] == False].groupby('LocationDescription').size()\n",
    "ind = np.arange(len(top5_locations))\n",
    "width = 0.5\n",
    "top5_locations = top5_locations.sort_values()\n",
    "\n",
    "p1 = plt.bar(ind, not_arrested, width)\n",
    "p2 = plt.bar(ind, arrested, width, bottom = not_arrested)\n",
    "\n",
    "plt.ylabel('Num crimes')\n",
    "plt.xlabel('LocationDescription')\n",
    "plt.xticks(ind, top5_locations, rotation = 'vertical')\n",
    "plt.legend((p1[0], p2[0]), ('Not_arrested', 'Arrested'))\n",
    "\n",
    "plt.show()"
   ]
  }
 ],
 "metadata": {
  "kernelspec": {
   "display_name": "Python 3",
   "language": "python",
   "name": "python3"
  },
  "language_info": {
   "codemirror_mode": {
    "name": "ipython",
    "version": 3
   },
   "file_extension": ".py",
   "mimetype": "text/x-python",
   "name": "python",
   "nbconvert_exporter": "python",
   "pygments_lexer": "ipython3",
   "version": "3.7.3"
  },
  "toc": {
   "nav_menu": {},
   "number_sections": false,
   "sideBar": true,
   "skip_h1_title": false,
   "title_cell": "Table of Contents",
   "title_sidebar": "Contents",
   "toc_cell": false,
   "toc_position": {
    "height": "calc(100% - 180px)",
    "left": "10px",
    "top": "150px",
    "width": "165px"
   },
   "toc_section_display": true,
   "toc_window_display": true
  }
 },
 "nbformat": 4,
 "nbformat_minor": 4
}
