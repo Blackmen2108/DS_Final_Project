{
 "cells": [
  {
   "cell_type": "code",
   "execution_count": 1,
   "metadata": {},
   "outputs": [],
   "source": [
    "rf = open('price_links.txt', 'r')\n",
    "wf = open('link_to_price.txt', 'w')\n",
    "url = 'https://www.devicespecifications.com/en/price/'\n",
    "line = rf.readline()\n",
    "while(line != ''):\n",
    "    code = line.strip().split('/')[-1]\n",
    "    link = url + code\n",
    "    wf.write(link + '\\n')\n",
    "    line = rf.readline()\n",
    "rf.close()\n",
    "wf.close()"
   ]
  }
 ],
 "metadata": {
  "kernelspec": {
   "display_name": "Python 3",
   "language": "python",
   "name": "python3"
  },
  "language_info": {
   "codemirror_mode": {
    "name": "ipython",
    "version": 3
   },
   "file_extension": ".py",
   "mimetype": "text/x-python",
   "name": "python",
   "nbconvert_exporter": "python",
   "pygments_lexer": "ipython3",
   "version": "3.7.3"
  }
 },
 "nbformat": 4,
 "nbformat_minor": 2
}
