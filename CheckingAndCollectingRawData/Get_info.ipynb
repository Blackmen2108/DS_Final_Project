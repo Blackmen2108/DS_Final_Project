{
 "cells": [
  {
   "cell_type": "code",
   "execution_count": null,
   "metadata": {},
   "outputs": [],
   "source": [
    "def info_process(information):\n",
    "    label = []\n",
    "    detail = []\n",
    "    information = information[0].split('\\n')\n",
    "    del information[-2:]\n",
    "\n",
    "    for i in range(len(information)):\n",
    "        information[i] = information[i].split(': ', 1)\n",
    "\n",
    "    for i in range(len(information)):\n",
    "        label.append(information[i][0])\n",
    "        detail.append(information[i][1])\n",
    "    return label, detail"
   ]
  },
  {
   "cell_type": "code",
   "execution_count": null,
   "metadata": {},
   "outputs": [],
   "source": [
    "from requests_html import HTMLSession, HTML\n",
    "import requests\n",
    "from selenium import webdriver\n",
    "import time\n",
    "\n",
    "session = HTMLSession()\n",
    "labels_of_each_product = []\n",
    "details_of_each_product = []\n",
    "rf = open('price_links.txt', 'r')\n",
    "link = rf.readline()\n",
    "\n",
    "while(link != ''):\n",
    "    information = []\n",
    "    r = session.get(link.strip())\n",
    "    \n",
    "    infos = r.html.find('#model-brief-specifications')\n",
    "    for info in infos:\n",
    "        information.append(info.text)\n",
    "\n",
    "    label, detail = info_process(information)\n",
    "    labels_of_each_product.append(label)\n",
    "    details_of_each_product.append(detail)\n",
    "    \n",
    "    print(label)\n",
    "    print(detail)\n",
    "    print(\"\\n\")\n",
    "    \n",
    "    link = rf.readline()\n",
    "    session.close() \n",
    "    session = HTMLSession()\n",
    "    time.sleep(1)"
   ]
  },
  {
   "cell_type": "code",
   "execution_count": null,
   "metadata": {},
   "outputs": [],
   "source": [
    "wf = open('information.txt', 'w', encoding=\"utf-8\")\n",
    "for i in range(len(labels_of_each_product)):\n",
    "    for lab in labels_of_each_product[i]:\n",
    "        wf.write(lab + '\\t')\n",
    "    wf.write('\\n')\n",
    "    for detail in details_of_each_product[i]:\n",
    "        wf.write(detail + '\\t')\n",
    "    wf.write('\\n\\n')\n",
    "wf.close()"
   ]
  }
 ],
 "metadata": {
  "kernelspec": {
   "display_name": "Python 3",
   "language": "python",
   "name": "python3"
  },
  "language_info": {
   "codemirror_mode": {
    "name": "ipython",
    "version": 3
   },
   "file_extension": ".py",
   "mimetype": "text/x-python",
   "name": "python",
   "nbconvert_exporter": "python",
   "pygments_lexer": "ipython3",
   "version": "3.7.4"
  }
 },
 "nbformat": 4,
 "nbformat_minor": 2
}
