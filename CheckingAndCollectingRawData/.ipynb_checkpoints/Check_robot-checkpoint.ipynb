{
 "cells": [
  {
   "cell_type": "code",
   "execution_count": 1,
   "metadata": {},
   "outputs": [],
   "source": [
    "import urllib.robotparser\n",
    "import time\n",
    "rp = urllib.robotparser.RobotFileParser()\n",
    "rp.set_url('https://www.devicespecifications.com/robots.txt')\n",
    "rp.read()"
   ]
  },
  {
   "cell_type": "code",
   "execution_count": 2,
   "metadata": {},
   "outputs": [],
   "source": [
    "fo = open('price_links.txt', 'r')\n",
    "line = fo.readline()\n",
    "while(line != ''):\n",
    "    if(rp.can_fetch('*', line.strip()) == False):\n",
    "        print(line)\n",
    "    line = fo.readline()\n",
    "fo.close()"
   ]
  },
  {
   "cell_type": "code",
   "execution_count": 3,
   "metadata": {},
   "outputs": [],
   "source": [
    "fo = open('link_to_price.txt', 'r')\n",
    "line = fo.readline()\n",
    "while(line != ''):\n",
    "    if(rp.can_fetch('*', line.strip()) == False):\n",
    "        print(line)\n",
    "    line = fo.readline()\n",
    "fo.close()"
   ]
  }
 ],
 "metadata": {
  "kernelspec": {
   "display_name": "Python 3",
   "language": "python",
   "name": "python3"
  },
  "language_info": {
   "codemirror_mode": {
    "name": "ipython",
    "version": 3
   },
   "file_extension": ".py",
   "mimetype": "text/x-python",
   "name": "python",
   "nbconvert_exporter": "python",
   "pygments_lexer": "ipython3",
   "version": "3.7.3"
  }
 },
 "nbformat": 4,
 "nbformat_minor": 2
}
