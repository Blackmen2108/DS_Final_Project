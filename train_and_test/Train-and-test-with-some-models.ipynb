{
 "cells": [
  {
   "cell_type": "code",
   "execution_count": 1,
   "metadata": {},
   "outputs": [],
   "source": [
    "import pandas as pd\n",
    "import numpy as np\n",
    "\n",
    "from sklearn.model_selection import train_test_split\n",
    "from sklearn.preprocessing import OneHotEncoder, StandardScaler\n",
    "from sklearn.impute import SimpleImputer\n",
    "from sklearn.base import BaseEstimator, TransformerMixin\n",
    "from sklearn.pipeline import Pipeline, make_pipeline\n",
    "from sklearn.compose import ColumnTransformer, make_column_transformer\n",
    "from sklearn.neural_network import MLPClassifier\n",
    "from sklearn.linear_model import LogisticRegression\n",
    "from sklearn.tree import DecisionTreeClassifier\n",
    "from sklearn.ensemble import RandomForestClassifier\n",
    "from sklearn.neighbors import KNeighborsClassifier"
   ]
  },
  {
   "cell_type": "code",
   "execution_count": 2,
   "metadata": {},
   "outputs": [
    {
     "name": "stdout",
     "output_type": "stream",
     "text": [
      "<class 'pandas.core.frame.DataFrame'>\n",
      "RangeIndex: 2811 entries, 0 to 2810\n",
      "Data columns (total 27 columns):\n",
      "Bluetooth              2811 non-null int64\n",
      "Width                  2781 non-null float64\n",
      "Height                 2781 non-null float64\n",
      "Thick                  2781 non-null float64\n",
      "Weight                 2646 non-null float64\n",
      "Memory card            2811 non-null object\n",
      "OS                     2811 non-null object\n",
      "SoC                    2811 non-null object\n",
      "Wi-Fi                  2811 non-null int64\n",
      "GPU core               2811 non-null object\n",
      "CPU core               2811 non-null object\n",
      "SIM type               2811 non-null object\n",
      "Number of SIM cards    2811 non-null object\n",
      "USB type               2811 non-null object\n",
      "USB version            2811 non-null object\n",
      "Position tracking      2811 non-null int64\n",
      "Display size           2811 non-null float64\n",
      "Display resolution     2811 non-null float64\n",
      "Display color depth    2811 non-null object\n",
      "Image resolution       2801 non-null float64\n",
      "Video resolution       2720 non-null float64\n",
      "FPS                    2676 non-null float64\n",
      "Battery type           2811 non-null object\n",
      "Battery power          2801 non-null float64\n",
      "RAM                    2811 non-null float64\n",
      "Storage                2804 non-null float64\n",
      "Price range            2811 non-null int64\n",
      "dtypes: float64(12), int64(4), object(11)\n",
      "memory usage: 593.1+ KB\n"
     ]
    }
   ],
   "source": [
    "data_df = pd.read_csv('C:/Users/DELL/Desktop/HK1_2019-2020/DataScience/FinalProject/DS_Final_Project/data/mobile_dataset.csv', sep='\\t')\n",
    "data_df.info()"
   ]
  },
  {
   "cell_type": "markdown",
   "metadata": {},
   "source": [
    "Thay thế các giá trị rỗng bằng 'No info' để chuẩn hóa lúc sau"
   ]
  },
  {
   "cell_type": "code",
   "execution_count": 3,
   "metadata": {},
   "outputs": [],
   "source": [
    "data_df = data_df.replace('nan cards', 'No info')\n",
    "data_df = data_df.replace('version nan', 'No info')"
   ]
  },
  {
   "cell_type": "markdown",
   "metadata": {},
   "source": [
    "## Tách dữ liệu thành 2 phần: label và tập train"
   ]
  },
  {
   "cell_type": "code",
   "execution_count": 4,
   "metadata": {},
   "outputs": [],
   "source": [
    "# Tách X và y\n",
    "y_df = data_df[\"Price range\"] \n",
    "X_df = data_df.drop(\"Price range\", axis=1)"
   ]
  },
  {
   "cell_type": "markdown",
   "metadata": {},
   "source": [
    "Tỉ lệ tập test là 20% của toàn bộ dataset"
   ]
  },
  {
   "cell_type": "code",
   "execution_count": 5,
   "metadata": {},
   "outputs": [],
   "source": [
    "# tách ra tỉ lệ train và test\n",
    "train_X_df, test_X, train_Y_df, test_Y = train_test_split(X_df, y_df, test_size=0.2, \n",
    "                                                              stratify=y_df, random_state=0)"
   ]
  },
  {
   "cell_type": "markdown",
   "metadata": {},
   "source": [
    "## Chuẩn hóa bộ dữ liệu"
   ]
  },
  {
   "cell_type": "code",
   "execution_count": 6,
   "metadata": {},
   "outputs": [],
   "source": [
    "num_cols = ['Width', 'Height', 'Thick', 'Weight', 'Display size', 'Display resolution', 'Image resolution',\n",
    "           'Video resolution', 'FPS', 'Battery power', 'RAM', 'Storage']\n",
    "cat_cols = ['Memory card', 'OS', 'SoC', 'GPU core', 'CPU core', 'SIM type', 'Number of SIM cards', 'USB type', 'USB version',\n",
    "           'Display color depth', 'Battery type']"
   ]
  },
  {
   "cell_type": "markdown",
   "metadata": {},
   "source": [
    "- Đối với các cột dạng numeric, ta sử dụng mean của cột để điền vào những giá trị còn thiếu\n",
    "- Đối với các cột dạng categorical, ta sử dụng giá trị xuất hiện nhiều nhất trong cột để điền vào những giá trị còn thiếu"
   ]
  },
  {
   "cell_type": "code",
   "execution_count": 7,
   "metadata": {},
   "outputs": [],
   "source": [
    "numeric_transformer = Pipeline(steps=[('imputer', SimpleImputer(missing_values = np.float64('NaN'), strategy='mean'))])\n",
    "\n",
    "categorical_transformer = Pipeline(\n",
    "    steps=[('imputer', SimpleImputer(missing_values = 'No info', strategy='most_frequent')),\n",
    "           ('onehot', OneHotEncoder(handle_unknown='ignore'))])\n",
    "\n",
    "preprocessor = ColumnTransformer(transformers=[('num', numeric_transformer, num_cols),\n",
    "                                               ('cat', categorical_transformer, cat_cols)])\n",
    "\n",
    "preprocess_pipeline = Pipeline(steps=[('preprocessor', preprocessor), ('scaler', StandardScaler(with_mean=False))])"
   ]
  },
  {
   "cell_type": "markdown",
   "metadata": {},
   "source": [
    "## Thử nghiệm với các thuật toán khác nhau"
   ]
  },
  {
   "cell_type": "markdown",
   "metadata": {},
   "source": [
    "### MLP Classifier"
   ]
  },
  {
   "cell_type": "code",
   "execution_count": 8,
   "metadata": {},
   "outputs": [
    {
     "name": "stdout",
     "output_type": "stream",
     "text": [
      "[95.37366548042705, 97.37544483985765, 97.50889679715303, 93.50533807829181, 86.38790035587188, 82.6067615658363]\n",
      "[85.43516873889875, 83.83658969804618, 84.36944937833037, 86.6785079928952, 87.38898756660745, 82.59325044404974]\n"
     ]
    }
   ],
   "source": [
    "# MLP Classifier\n",
    "full_pipeline = Pipeline(steps = [('preprocess_pipeline', preprocess_pipeline),\n",
    "                                 ('NeuralNet', MLPClassifier(hidden_layer_sizes=(20), activation='tanh', \n",
    "                                                            solver='lbfgs', random_state=0, max_iter=1000))])\n",
    "\n",
    "train_accuracy = []\n",
    "test_accuracy = []\n",
    "alphas = [0.1, 0.5, 1, 10, 100, 1000]\n",
    "\n",
    "for alpha in alphas:\n",
    "    full_pipeline.set_params(NeuralNet__alpha = alpha)\n",
    "    full_pipeline.fit(train_X_df, train_Y_df)\n",
    "    train_accuracy.append(full_pipeline.score(train_X_df, train_Y_df) * 100)\n",
    "    test_accuracy.append(full_pipeline.score(test_X, test_Y) * 100)\n",
    "\n",
    "print(train_accuracy)\n",
    "print(test_accuracy)"
   ]
  },
  {
   "cell_type": "markdown",
   "metadata": {},
   "source": [
    "### Logistic Regression"
   ]
  },
  {
   "cell_type": "code",
   "execution_count": 9,
   "metadata": {},
   "outputs": [
    {
     "name": "stdout",
     "output_type": "stream",
     "text": [
      "Train accuracy:  88.79003558718861\n",
      "Test accuracy:  87.2113676731794\n"
     ]
    }
   ],
   "source": [
    "# Logistic Regression\n",
    "full_pipeline = Pipeline(steps = [('preprocess_pipeline', preprocess_pipeline),\n",
    "                                 ('LogReg', LogisticRegression(multi_class = 'multinomial', solver = 'sag',  max_iter = 10000))])\n",
    "\n",
    "full_pipeline.fit(train_X_df, train_Y_df)\n",
    "print('Train accuracy: ', full_pipeline.score(train_X_df, train_Y_df) * 100)\n",
    "print('Test accuracy: ', full_pipeline.score(test_X, test_Y) * 100)"
   ]
  },
  {
   "cell_type": "markdown",
   "metadata": {},
   "source": [
    "### Decision Tree"
   ]
  },
  {
   "cell_type": "code",
   "execution_count": 10,
   "metadata": {},
   "outputs": [
    {
     "name": "stdout",
     "output_type": "stream",
     "text": [
      "Train accuracy:  99.91103202846975\n",
      "Test accuracy:  82.59325044404974\n"
     ]
    }
   ],
   "source": [
    "# Deision Tree\n",
    "full_pipeline = Pipeline(steps = [('preprocess_pipeline', preprocess_pipeline),\n",
    "                                 ('Decision_Tree', DecisionTreeClassifier(random_state=101))])\n",
    "\n",
    "full_pipeline.fit(train_X_df, train_Y_df)\n",
    "print('Train accuracy: ', full_pipeline.score(train_X_df, train_Y_df) * 100)\n",
    "print('Test accuracy: ', full_pipeline.score(test_X, test_Y) * 100)"
   ]
  },
  {
   "cell_type": "markdown",
   "metadata": {},
   "source": [
    "### Random Forest"
   ]
  },
  {
   "cell_type": "code",
   "execution_count": 11,
   "metadata": {},
   "outputs": [
    {
     "name": "stdout",
     "output_type": "stream",
     "text": [
      "Train accuracy:  99.91103202846975\n",
      "Test accuracy:  88.45470692717583\n"
     ]
    }
   ],
   "source": [
    "# Random Forest\n",
    "full_pipeline = Pipeline(steps = [('preprocess_pipeline', preprocess_pipeline),\n",
    "                                 ('Random_Forest', RandomForestClassifier(n_estimators = 100, random_state=101, criterion = 'entropy', oob_score = True))])\n",
    "\n",
    "full_pipeline.fit(train_X_df, train_Y_df)\n",
    "print('Train accuracy: ', full_pipeline.score(train_X_df, train_Y_df) * 100)\n",
    "print('Test accuracy: ', full_pipeline.score(test_X, test_Y) * 100)"
   ]
  },
  {
   "cell_type": "markdown",
   "metadata": {},
   "source": [
    "### KNN"
   ]
  },
  {
   "cell_type": "code",
   "execution_count": 12,
   "metadata": {},
   "outputs": [
    {
     "name": "stdout",
     "output_type": "stream",
     "text": [
      "Train accuracy:  89.72419928825623\n",
      "Test accuracy:  83.30373001776199\n"
     ]
    }
   ],
   "source": [
    "# KNN\n",
    "full_pipeline = Pipeline(steps = [('preprocess_pipeline', preprocess_pipeline),\n",
    "                                 ('KNN', KNeighborsClassifier(n_neighbors=3))])\n",
    "\n",
    "full_pipeline.fit(train_X_df, train_Y_df)\n",
    "print('Train accuracy: ', full_pipeline.score(train_X_df, train_Y_df) * 100)\n",
    "print('Test accuracy: ', full_pipeline.score(test_X, test_Y) * 100)"
   ]
  },
  {
   "cell_type": "markdown",
   "metadata": {},
   "source": [
    "## Đánh giá lựa chọn thuật toán"
   ]
  },
  {
   "cell_type": "markdown",
   "metadata": {},
   "source": [
    "Ta thấy rằng thuật toán Random Forest có độ chính xác ổn nhất trong các thuật toán ở trên khi xét ở cả 2 tập train và test.\n",
    "\n",
    "Do đó, ta sẽ thử nghiệm với các tham số khác nhau của thuật toán Random Forest"
   ]
  }
 ],
 "metadata": {
  "kernelspec": {
   "display_name": "Python 3",
   "language": "python",
   "name": "python3"
  },
  "language_info": {
   "codemirror_mode": {
    "name": "ipython",
    "version": 3
   },
   "file_extension": ".py",
   "mimetype": "text/x-python",
   "name": "python",
   "nbconvert_exporter": "python",
   "pygments_lexer": "ipython3",
   "version": "3.7.4"
  }
 },
 "nbformat": 4,
 "nbformat_minor": 2
}
