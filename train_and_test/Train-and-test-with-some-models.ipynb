{
 "cells": [
  {
   "cell_type": "code",
   "execution_count": 1,
   "metadata": {
    "colab": {},
    "colab_type": "code",
    "id": "6sx8i9y-F0s9"
   },
   "outputs": [],
   "source": [
    "import pandas as pd\n",
    "import numpy as np\n",
    "\n",
    "from sklearn.model_selection import train_test_split\n",
    "from sklearn.preprocessing import OneHotEncoder, StandardScaler\n",
    "from sklearn.impute import SimpleImputer\n",
    "from sklearn.base import BaseEstimator, TransformerMixin\n",
    "from sklearn.pipeline import Pipeline, make_pipeline\n",
    "from sklearn.compose import ColumnTransformer, make_column_transformer\n",
    "from sklearn.neural_network import MLPClassifier\n",
    "from sklearn.linear_model import LogisticRegression\n",
    "from sklearn.tree import DecisionTreeClassifier\n",
    "from sklearn.ensemble import RandomForestClassifier\n",
    "from sklearn.neighbors import KNeighborsClassifier"
   ]
  },
  {
   "cell_type": "code",
   "execution_count": 2,
   "metadata": {
    "colab": {
     "base_uri": "https://localhost:8080/",
     "height": 554
    },
    "colab_type": "code",
    "executionInfo": {
     "elapsed": 961,
     "status": "ok",
     "timestamp": 1578621637926,
     "user": {
      "displayName": "Chiết Hạt",
      "photoUrl": "https://lh4.googleusercontent.com/-jvGt9tisoQQ/AAAAAAAAAAI/AAAAAAAABP4/Qr4HbudAQ0g/s64/photo.jpg",
      "userId": "11143544864573817980"
     },
     "user_tz": -420
    },
    "id": "TR27AbkMF0tA",
    "outputId": "8385601f-505a-4899-bc06-2424ed5f73db"
   },
   "outputs": [
    {
     "name": "stdout",
     "output_type": "stream",
     "text": [
      "<class 'pandas.core.frame.DataFrame'>\n",
      "RangeIndex: 2811 entries, 0 to 2810\n",
      "Data columns (total 27 columns):\n",
      "Bluetooth              2811 non-null int64\n",
      "Width                  2781 non-null float64\n",
      "Height                 2781 non-null float64\n",
      "Thick                  2781 non-null float64\n",
      "Weight                 2646 non-null float64\n",
      "Memory card            2811 non-null object\n",
      "OS                     2811 non-null object\n",
      "SoC                    2811 non-null object\n",
      "Wi-Fi                  2811 non-null int64\n",
      "GPU core               2811 non-null object\n",
      "CPU core               2811 non-null object\n",
      "SIM type               2811 non-null object\n",
      "Number of SIM cards    2811 non-null object\n",
      "USB type               2811 non-null object\n",
      "USB version            2811 non-null object\n",
      "Position tracking      2811 non-null int64\n",
      "Display size           2811 non-null float64\n",
      "Display resolution     2811 non-null float64\n",
      "Display color depth    2811 non-null object\n",
      "Image resolution       2801 non-null float64\n",
      "Video resolution       2720 non-null float64\n",
      "FPS                    2676 non-null float64\n",
      "Battery type           2811 non-null object\n",
      "Battery power          2801 non-null float64\n",
      "RAM                    2811 non-null float64\n",
      "Storage                2804 non-null float64\n",
      "Price range            2811 non-null int64\n",
      "dtypes: float64(12), int64(4), object(11)\n",
      "memory usage: 593.1+ KB\n"
     ]
    }
   ],
   "source": [
    "data_df = pd.read_csv('C:/Users/DELL/Desktop/HK1_2019-2020/DataScience/FinalProject/DS_Final_Project/data/mobile_dataset.csv', sep='\\t')\n",
    "data_df.info()"
   ]
  },
  {
   "cell_type": "markdown",
   "metadata": {
    "colab_type": "text",
    "id": "amai1MPNF0tD"
   },
   "source": [
    "Thay thế các giá trị rỗng bằng 'No info' để chuẩn hóa lúc sau"
   ]
  },
  {
   "cell_type": "code",
   "execution_count": 3,
   "metadata": {
    "colab": {},
    "colab_type": "code",
    "id": "XBU1v-MZF0tE"
   },
   "outputs": [],
   "source": [
    "data_df = data_df.replace('nan cards', 'No info')\n",
    "data_df = data_df.replace('version nan', 'No info')"
   ]
  },
  {
   "cell_type": "markdown",
   "metadata": {
    "colab_type": "text",
    "id": "kw5fMvX6F0tF"
   },
   "source": [
    "## Tách dữ liệu thành 2 phần: label và tập train"
   ]
  },
  {
   "cell_type": "code",
   "execution_count": 4,
   "metadata": {
    "colab": {},
    "colab_type": "code",
    "id": "naxHc5NeF0tG"
   },
   "outputs": [],
   "source": [
    "# Tách X và y\n",
    "y_df = data_df[\"Price range\"] \n",
    "X_df = data_df.drop(\"Price range\", axis=1)"
   ]
  },
  {
   "cell_type": "markdown",
   "metadata": {
    "colab_type": "text",
    "id": "J_vB8ckxF0tI"
   },
   "source": [
    "Tỉ lệ tập test là 20% của toàn bộ dataset"
   ]
  },
  {
   "cell_type": "code",
   "execution_count": 5,
   "metadata": {
    "colab": {},
    "colab_type": "code",
    "id": "CPiGhSVDF0tI"
   },
   "outputs": [],
   "source": [
    "# tách ra tỉ lệ train và test\n",
    "train_and_validation_X_df, test_X, train_and_validation_Y_df, test_Y = train_test_split(X_df, y_df, test_size=0.2, \n",
    "                                                                                        stratify=y_df, random_state=0)"
   ]
  },
  {
   "cell_type": "markdown",
   "metadata": {
    "colab_type": "text",
    "id": "URvOn7cBLs0g"
   },
   "source": [
    "Tỉ lệ tập validation là 20% toàn bộ dataset tương ứng 25% train_and_validation_X_df\n"
   ]
  },
  {
   "cell_type": "code",
   "execution_count": 6,
   "metadata": {
    "colab": {},
    "colab_type": "code",
    "id": "g-jYWrcuLCCL"
   },
   "outputs": [],
   "source": [
    "# tách tập train_and_validation thành train và validation\n",
    "train_X_df, validation_X, train_Y_df, validation_Y = train_test_split(train_and_validation_X_df, train_and_validation_Y_df, \n",
    "                                                            test_size=0.25, stratify=train_and_validation_Y_df, random_state=0)"
   ]
  },
  {
   "cell_type": "markdown",
   "metadata": {
    "colab_type": "text",
    "id": "2jdDt8GUF0tK"
   },
   "source": [
    "## Chuẩn hóa bộ dữ liệu"
   ]
  },
  {
   "cell_type": "code",
   "execution_count": 7,
   "metadata": {
    "colab": {},
    "colab_type": "code",
    "id": "mvKw776tF0tL"
   },
   "outputs": [],
   "source": [
    "num_cols = ['Width', 'Height', 'Thick', 'Weight', 'Display size', 'Display resolution', 'Image resolution',\n",
    "           'Video resolution', 'FPS', 'Battery power', 'RAM', 'Storage']\n",
    "cat_cols = ['Memory card', 'OS', 'SoC', 'GPU core', 'CPU core', 'SIM type', 'Number of SIM cards', 'USB type', 'USB version',\n",
    "           'Display color depth', 'Battery type']"
   ]
  },
  {
   "cell_type": "markdown",
   "metadata": {
    "colab_type": "text",
    "id": "PRPSJHjKF0tM"
   },
   "source": [
    "- Đối với các cột dạng numeric, ta sử dụng mean của cột để điền vào những giá trị còn thiếu\n",
    "- Đối với các cột dạng categorical, ta sử dụng giá trị xuất hiện nhiều nhất trong cột để điền vào những giá trị còn thiếu"
   ]
  },
  {
   "cell_type": "code",
   "execution_count": 8,
   "metadata": {
    "colab": {},
    "colab_type": "code",
    "id": "5CBQMaaPF0tN"
   },
   "outputs": [],
   "source": [
    "numeric_transformer = Pipeline(steps=[('imputer', SimpleImputer(missing_values = np.float64('NaN'), strategy='mean'))])\n",
    "\n",
    "categorical_transformer = Pipeline(\n",
    "    steps=[('imputer', SimpleImputer(missing_values = 'No info', strategy='most_frequent')),\n",
    "           ('onehot', OneHotEncoder(handle_unknown='ignore'))])\n",
    "\n",
    "preprocessor = ColumnTransformer(transformers=[('num', numeric_transformer, num_cols),\n",
    "                                               ('cat', categorical_transformer, cat_cols)])\n",
    "\n",
    "preprocess_pipeline = Pipeline(steps=[('preprocessor', preprocessor), ('scaler', StandardScaler(with_mean=False))])"
   ]
  },
  {
   "cell_type": "markdown",
   "metadata": {
    "colab_type": "text",
    "id": "E-XxP4QEF0tO"
   },
   "source": [
    "## Thử nghiệm với các thuật toán khác nhau"
   ]
  },
  {
   "cell_type": "markdown",
   "metadata": {
    "colab_type": "text",
    "id": "ON_OrgUJF0tP"
   },
   "source": [
    "### MLP Classifier"
   ]
  },
  {
   "cell_type": "code",
   "execution_count": 9,
   "metadata": {
    "colab": {},
    "colab_type": "code",
    "id": "i79wJK8tF0tP",
    "outputId": "2b94521e-c0cb-42df-ac5a-c9bcf97bca68"
   },
   "outputs": [
    {
     "name": "stdout",
     "output_type": "stream",
     "text": [
      "[93.3570581257414, 97.80545670225386, 98.75444839857651, 93.95017793594306, 86.1803084223013, 82.62158956109134]\n",
      "[85.05338078291815, 84.51957295373666, 83.98576512455516, 85.40925266903915, 85.76512455516014, 82.56227758007117]\n"
     ]
    }
   ],
   "source": [
    "# MLP Classifier\n",
    "full_pipeline = Pipeline(steps = [('preprocess_pipeline', preprocess_pipeline),\n",
    "                                 ('NeuralNet', MLPClassifier(hidden_layer_sizes=(20), activation='tanh', \n",
    "                                                            solver='lbfgs', random_state=0, max_iter=1000))])\n",
    "\n",
    "train_accuracy = []\n",
    "validation_accuracy = []\n",
    "alphas = [0.1, 0.5, 1, 10, 100, 1000]\n",
    "\n",
    "for alpha in alphas:\n",
    "    full_pipeline.set_params(NeuralNet__alpha = alpha)\n",
    "    full_pipeline.fit(train_X_df, train_Y_df)\n",
    "    train_accuracy.append(full_pipeline.score(train_X_df, train_Y_df) * 100)\n",
    "    validation_accuracy.append(full_pipeline.score(validation_X, validation_Y) * 100)\n",
    "\n",
    "print(train_accuracy)\n",
    "print(validation_accuracy)"
   ]
  },
  {
   "cell_type": "markdown",
   "metadata": {
    "colab_type": "text",
    "id": "XdngYIyoF0tR"
   },
   "source": [
    "### Logistic Regression"
   ]
  },
  {
   "cell_type": "code",
   "execution_count": 10,
   "metadata": {
    "colab": {},
    "colab_type": "code",
    "id": "fBi4yBwIF0tS",
    "outputId": "15787a29-7979-423c-f678-832e38784eb6"
   },
   "outputs": [
    {
     "name": "stdout",
     "output_type": "stream",
     "text": [
      "Train accuracy:  88.67141162514828\n",
      "Validation accuracy:  85.76512455516014\n"
     ]
    }
   ],
   "source": [
    "# Logistic Regression\n",
    "full_pipeline = Pipeline(steps = [('preprocess_pipeline', preprocess_pipeline),\n",
    "                                 ('LogReg', LogisticRegression(multi_class = 'multinomial', solver = 'sag',  max_iter = 10000))])\n",
    "\n",
    "full_pipeline.fit(train_X_df, train_Y_df)\n",
    "print('Train accuracy: ', full_pipeline.score(train_X_df, train_Y_df) * 100)\n",
    "print('Validation accuracy: ', full_pipeline.score(validation_X, validation_Y) * 100)"
   ]
  },
  {
   "cell_type": "markdown",
   "metadata": {
    "colab_type": "text",
    "id": "TIETTxugF0tT"
   },
   "source": [
    "### Decision Tree"
   ]
  },
  {
   "cell_type": "code",
   "execution_count": 11,
   "metadata": {
    "colab": {},
    "colab_type": "code",
    "id": "4G35Y0WPF0tU",
    "outputId": "48a07219-a2cc-4725-f230-b05de7571fd3"
   },
   "outputs": [
    {
     "name": "stdout",
     "output_type": "stream",
     "text": [
      "Train accuracy:  100.0\n",
      "Validation accuracy:  79.1814946619217\n"
     ]
    }
   ],
   "source": [
    "# Deision Tree\n",
    "full_pipeline = Pipeline(steps = [('preprocess_pipeline', preprocess_pipeline),\n",
    "                                 ('Decision_Tree', DecisionTreeClassifier(random_state=101))])\n",
    "\n",
    "full_pipeline.fit(train_X_df, train_Y_df)\n",
    "print('Train accuracy: ', full_pipeline.score(train_X_df, train_Y_df) * 100)\n",
    "print('Validation accuracy: ', full_pipeline.score(validation_X, validation_Y) * 100)"
   ]
  },
  {
   "cell_type": "markdown",
   "metadata": {
    "colab_type": "text",
    "id": "PZqh9Q60F0tW"
   },
   "source": [
    "### Random Forest"
   ]
  },
  {
   "cell_type": "code",
   "execution_count": 12,
   "metadata": {
    "colab": {},
    "colab_type": "code",
    "id": "c1-5p4xYF0tW",
    "outputId": "5ade4e38-5789-4b28-9567-9d4bb4a3221d"
   },
   "outputs": [
    {
     "name": "stdout",
     "output_type": "stream",
     "text": [
      "Train accuracy:  100.0\n",
      "Validation accuracy:  85.23131672597864\n"
     ]
    }
   ],
   "source": [
    "# Random Forest\n",
    "full_pipeline = Pipeline(steps = [('preprocess_pipeline', preprocess_pipeline),\n",
    "                                 ('Random_Forest', RandomForestClassifier(n_estimators = 100, random_state=101, criterion = 'entropy', oob_score = True))])\n",
    "\n",
    "full_pipeline.fit(train_X_df, train_Y_df)\n",
    "print('Train accuracy: ', full_pipeline.score(train_X_df, train_Y_df) * 100)\n",
    "print('Validation accuracy: ', full_pipeline.score(validation_X, validation_Y) * 100)"
   ]
  },
  {
   "cell_type": "markdown",
   "metadata": {
    "colab_type": "text",
    "id": "ggr6dIB1F0tY"
   },
   "source": [
    "### KNN"
   ]
  },
  {
   "cell_type": "code",
   "execution_count": 13,
   "metadata": {
    "colab": {},
    "colab_type": "code",
    "id": "xAJBaR_bF0tY",
    "outputId": "4b8c153a-b097-46d9-cd09-77d8bc2e10cf"
   },
   "outputs": [
    {
     "name": "stdout",
     "output_type": "stream",
     "text": [
      "Train accuracy:  90.0355871886121\n",
      "Validation accuracy:  83.98576512455516\n"
     ]
    }
   ],
   "source": [
    "# KNN\n",
    "full_pipeline = Pipeline(steps = [('preprocess_pipeline', preprocess_pipeline),\n",
    "                                 ('KNN', KNeighborsClassifier(n_neighbors=3))])\n",
    "\n",
    "full_pipeline.fit(train_X_df, train_Y_df)\n",
    "print('Train accuracy: ', full_pipeline.score(train_X_df, train_Y_df) * 100)\n",
    "print('Validation accuracy: ', full_pipeline.score(validation_X, validation_Y) * 100)"
   ]
  },
  {
   "cell_type": "markdown",
   "metadata": {
    "colab_type": "text",
    "id": "0fHal8UeF0ta"
   },
   "source": [
    "## Đánh giá lựa chọn thuật toán"
   ]
  },
  {
   "cell_type": "markdown",
   "metadata": {
    "colab_type": "text",
    "id": "MxSJzcJzF0tb"
   },
   "source": [
    "Ta thấy rằng thuật toán Random Forest có độ chính xác ổn nhất trong các thuật toán ở trên khi xét ở cả 2 tập train và test.\n",
    "\n",
    "Do đó, ta sẽ thử nghiệm với các tham số khác nhau của thuật toán Random Forest"
   ]
  },
  {
   "cell_type": "code",
   "execution_count": null,
   "metadata": {
    "colab": {
     "base_uri": "https://localhost:8080/",
     "height": 1000
    },
    "colab_type": "code",
    "executionInfo": {
     "elapsed": 492867,
     "status": "ok",
     "timestamp": 1578624519657,
     "user": {
      "displayName": "Chiết Hạt",
      "photoUrl": "https://lh4.googleusercontent.com/-jvGt9tisoQQ/AAAAAAAAAAI/AAAAAAAABP4/Qr4HbudAQ0g/s64/photo.jpg",
      "userId": "11143544864573817980"
     },
     "user_tz": -420
    },
    "id": "D9J6_b_3F2ef",
    "outputId": "b5c41795-7219-4a79-e09b-963cc1420970"
   },
   "outputs": [
    {
     "name": "stdout",
     "output_type": "stream",
     "text": [
      "entropy\n",
      "auto\n",
      "100\n",
      "Train accuracy:  100.0\n",
      "Test accuracy:  85.76512455516014\n",
      "150\n",
      "Train accuracy:  100.0\n",
      "Test accuracy:  85.40925266903915\n",
      "200\n",
      "Train accuracy:  100.0\n",
      "Test accuracy:  85.94306049822063\n",
      "250\n",
      "Train accuracy:  100.0\n",
      "Test accuracy:  85.76512455516014\n",
      "300\n",
      "Train accuracy:  100.0\n",
      "Test accuracy:  85.94306049822063\n",
      "350\n",
      "Train accuracy:  100.0\n",
      "Test accuracy:  85.76512455516014\n",
      "400\n",
      "Train accuracy:  100.0\n",
      "Test accuracy:  85.58718861209964\n",
      "450\n",
      "Train accuracy:  100.0\n",
      "Test accuracy:  85.76512455516014\n",
      "500\n",
      "Train accuracy:  100.0\n",
      "Test accuracy:  85.76512455516014\n",
      "550\n",
      "Train accuracy:  100.0\n",
      "Test accuracy:  85.76512455516014\n",
      "600\n",
      "Train accuracy:  100.0\n",
      "Test accuracy:  85.76512455516014\n",
      "650\n",
      "Train accuracy:  100.0\n",
      "Test accuracy:  86.12099644128114\n",
      "700\n",
      "Train accuracy:  100.0\n",
      "Test accuracy:  86.12099644128114\n",
      "750\n",
      "Train accuracy:  100.0\n",
      "Test accuracy:  86.12099644128114\n",
      "800\n",
      "Train accuracy:  100.0\n",
      "Test accuracy:  86.12099644128114\n",
      "850\n",
      "Train accuracy:  100.0\n",
      "Test accuracy:  85.76512455516014\n",
      "900\n",
      "Train accuracy:  100.0\n",
      "Test accuracy:  85.94306049822063\n",
      "950\n",
      "Train accuracy:  100.0\n",
      "Test accuracy:  85.94306049822063\n",
      "1000\n",
      "Train accuracy:  100.0\n",
      "Test accuracy:  85.94306049822063\n",
      "log2\n",
      "100\n",
      "Train accuracy:  100.0\n",
      "Test accuracy:  85.58718861209964\n",
      "150\n",
      "Train accuracy:  100.0\n",
      "Test accuracy:  85.76512455516014\n",
      "200\n",
      "Train accuracy:  100.0\n",
      "Test accuracy:  85.58718861209964\n",
      "250\n",
      "Train accuracy:  100.0\n",
      "Test accuracy:  86.29893238434164\n",
      "300\n",
      "Train accuracy:  100.0\n",
      "Test accuracy:  85.94306049822063\n",
      "350\n",
      "Train accuracy:  100.0\n",
      "Test accuracy:  85.40925266903915\n",
      "400\n",
      "Train accuracy:  100.0\n",
      "Test accuracy:  85.76512455516014\n",
      "450\n",
      "Train accuracy:  100.0\n",
      "Test accuracy:  85.94306049822063\n",
      "500\n",
      "Train accuracy:  100.0\n",
      "Test accuracy:  85.76512455516014\n",
      "550\n",
      "Train accuracy:  100.0\n",
      "Test accuracy:  85.58718861209964\n",
      "600\n",
      "Train accuracy:  100.0\n",
      "Test accuracy:  85.76512455516014\n",
      "650\n",
      "Train accuracy:  100.0\n",
      "Test accuracy:  85.94306049822063\n",
      "700\n",
      "Train accuracy:  100.0\n",
      "Test accuracy:  86.12099644128114\n",
      "750\n",
      "Train accuracy:  100.0\n",
      "Test accuracy:  85.94306049822063\n",
      "800\n",
      "Train accuracy:  100.0\n",
      "Test accuracy:  86.29893238434164\n",
      "850\n",
      "Train accuracy:  100.0\n",
      "Test accuracy:  86.12099644128114\n",
      "900\n",
      "Train accuracy:  100.0\n",
      "Test accuracy:  85.94306049822063\n",
      "950\n",
      "Train accuracy:  100.0\n",
      "Test accuracy:  85.94306049822063\n",
      "1000\n",
      "Train accuracy:  100.0\n",
      "Test accuracy:  85.94306049822063\n",
      "None\n",
      "100\n",
      "Train accuracy:  100.0\n",
      "Test accuracy:  84.87544483985765\n",
      "150\n",
      "Train accuracy:  100.0\n",
      "Test accuracy:  85.05338078291815\n",
      "200\n",
      "Train accuracy:  100.0\n",
      "Test accuracy:  84.87544483985765\n",
      "250\n",
      "Train accuracy:  100.0\n",
      "Test accuracy:  85.05338078291815\n",
      "300\n",
      "Train accuracy:  100.0\n",
      "Test accuracy:  85.23131672597864\n",
      "350\n",
      "Train accuracy:  100.0\n",
      "Test accuracy:  84.87544483985765\n",
      "400\n",
      "Train accuracy:  100.0\n",
      "Test accuracy:  85.05338078291815\n",
      "450\n",
      "Train accuracy:  100.0\n",
      "Test accuracy:  85.05338078291815\n",
      "500\n",
      "Train accuracy:  100.0\n",
      "Test accuracy:  85.23131672597864\n",
      "550\n",
      "Train accuracy:  100.0\n",
      "Test accuracy:  85.05338078291815\n",
      "600\n",
      "Train accuracy:  100.0\n",
      "Test accuracy:  85.05338078291815\n",
      "650\n",
      "Train accuracy:  100.0\n",
      "Test accuracy:  85.23131672597864\n",
      "700\n",
      "Train accuracy:  100.0\n",
      "Test accuracy:  85.05338078291815\n",
      "750\n",
      "Train accuracy:  100.0\n",
      "Test accuracy:  85.05338078291815\n",
      "800\n",
      "Train accuracy:  100.0\n",
      "Test accuracy:  85.05338078291815\n",
      "850\n",
      "Train accuracy:  100.0\n",
      "Test accuracy:  85.05338078291815\n",
      "900\n",
      "Train accuracy:  100.0\n",
      "Test accuracy:  85.05338078291815\n",
      "950\n",
      "Train accuracy:  100.0\n",
      "Test accuracy:  85.05338078291815\n",
      "1000\n",
      "Train accuracy:  100.0\n",
      "Test accuracy:  85.05338078291815\n",
      "gini\n",
      "auto\n",
      "100\n",
      "Train accuracy:  100.0\n",
      "Test accuracy:  86.12099644128114\n",
      "150\n",
      "Train accuracy:  100.0\n",
      "Test accuracy:  86.12099644128114\n",
      "200\n",
      "Train accuracy:  100.0\n",
      "Test accuracy:  86.65480427046263\n",
      "250\n",
      "Train accuracy:  100.0\n",
      "Test accuracy:  86.83274021352312\n",
      "300\n",
      "Train accuracy:  100.0\n",
      "Test accuracy:  86.12099644128114\n",
      "350\n",
      "Train accuracy:  100.0\n",
      "Test accuracy:  86.29893238434164\n",
      "400\n",
      "Train accuracy:  100.0\n",
      "Test accuracy:  86.29893238434164\n",
      "450\n",
      "Train accuracy:  100.0\n",
      "Test accuracy:  86.29893238434164\n",
      "500\n",
      "Train accuracy:  100.0\n",
      "Test accuracy:  86.29893238434164\n",
      "550\n",
      "Train accuracy:  100.0\n",
      "Test accuracy:  86.29893238434164\n",
      "600\n",
      "Train accuracy:  100.0\n",
      "Test accuracy:  86.65480427046263\n",
      "650\n",
      "Train accuracy:  100.0\n",
      "Test accuracy:  86.47686832740213\n",
      "700\n",
      "Train accuracy:  100.0\n",
      "Test accuracy:  86.47686832740213\n",
      "750\n",
      "Train accuracy:  100.0\n",
      "Test accuracy:  86.47686832740213\n",
      "800\n",
      "Train accuracy:  100.0\n",
      "Test accuracy:  86.47686832740213\n",
      "850\n",
      "Train accuracy:  100.0\n",
      "Test accuracy:  86.29893238434164\n",
      "900\n",
      "Train accuracy:  100.0\n",
      "Test accuracy:  86.12099644128114\n",
      "950\n",
      "Train accuracy:  100.0\n",
      "Test accuracy:  86.12099644128114\n",
      "1000\n",
      "Train accuracy:  100.0\n",
      "Test accuracy:  86.12099644128114\n",
      "log2\n",
      "100\n",
      "Train accuracy:  100.0\n",
      "Test accuracy:  86.29893238434164\n",
      "150\n",
      "Train accuracy:  100.0\n",
      "Test accuracy:  86.12099644128114\n",
      "200\n",
      "Train accuracy:  100.0\n",
      "Test accuracy:  85.94306049822063\n",
      "250\n",
      "Train accuracy:  100.0\n",
      "Test accuracy:  85.76512455516014\n",
      "300\n",
      "Train accuracy:  100.0\n",
      "Test accuracy:  85.58718861209964\n",
      "350\n",
      "Train accuracy:  100.0\n",
      "Test accuracy:  86.12099644128114\n",
      "400\n",
      "Train accuracy:  100.0\n",
      "Test accuracy:  86.12099644128114\n",
      "450\n",
      "Train accuracy:  100.0\n",
      "Test accuracy:  85.76512455516014\n",
      "500\n",
      "Train accuracy:  100.0\n",
      "Test accuracy:  85.94306049822063\n",
      "550\n",
      "Train accuracy:  100.0\n",
      "Test accuracy:  85.76512455516014\n",
      "600\n",
      "Train accuracy:  100.0\n",
      "Test accuracy:  85.58718861209964\n",
      "650\n",
      "Train accuracy:  100.0\n",
      "Test accuracy:  85.58718861209964\n",
      "700\n",
      "Train accuracy:  100.0\n",
      "Test accuracy:  85.76512455516014\n",
      "750\n",
      "Train accuracy:  100.0\n",
      "Test accuracy:  85.58718861209964\n",
      "800\n",
      "Train accuracy:  100.0\n",
      "Test accuracy:  85.58718861209964\n",
      "850\n",
      "Train accuracy:  100.0\n",
      "Test accuracy:  85.76512455516014\n",
      "900\n",
      "Train accuracy:  100.0\n",
      "Test accuracy:  85.58718861209964\n",
      "950\n",
      "Train accuracy:  100.0\n",
      "Test accuracy:  85.76512455516014\n",
      "1000\n",
      "Train accuracy:  100.0\n",
      "Test accuracy:  85.76512455516014\n",
      "None\n",
      "100\n",
      "Train accuracy:  100.0\n",
      "Test accuracy:  85.40925266903915\n",
      "150\n",
      "Train accuracy:  100.0\n",
      "Test accuracy:  85.76512455516014\n",
      "200\n",
      "Train accuracy:  100.0\n",
      "Test accuracy:  85.76512455516014\n",
      "250\n",
      "Train accuracy:  100.0\n",
      "Test accuracy:  85.76512455516014\n",
      "300\n",
      "Train accuracy:  100.0\n",
      "Test accuracy:  85.58718861209964\n",
      "350\n",
      "Train accuracy:  100.0\n",
      "Test accuracy:  85.58718861209964\n",
      "400\n",
      "Train accuracy:  100.0\n",
      "Test accuracy:  85.40925266903915\n",
      "450\n",
      "Train accuracy:  100.0\n",
      "Test accuracy:  85.40925266903915\n",
      "500\n",
      "Train accuracy:  100.0\n",
      "Test accuracy:  85.23131672597864\n",
      "550\n",
      "Train accuracy:  100.0\n",
      "Test accuracy:  85.23131672597864\n",
      "600\n",
      "Train accuracy:  100.0\n",
      "Test accuracy:  85.40925266903915\n",
      "650\n",
      "Train accuracy:  100.0\n",
      "Test accuracy:  85.23131672597864\n",
      "700\n",
      "Train accuracy:  100.0\n",
      "Test accuracy:  85.40925266903915\n",
      "750\n",
      "Train accuracy:  100.0\n",
      "Test accuracy:  85.40925266903915\n",
      "800\n",
      "Train accuracy:  100.0\n",
      "Test accuracy:  85.58718861209964\n",
      "850\n",
      "Train accuracy:  100.0\n",
      "Test accuracy:  85.58718861209964\n",
      "900\n",
      "Train accuracy:  100.0\n",
      "Test accuracy:  85.58718861209964\n",
      "950\n",
      "Train accuracy:  100.0\n",
      "Test accuracy:  85.58718861209964\n",
      "1000\n"
     ]
    }
   ],
   "source": [
    "\n",
    "n_es=[x for x in range(100,1050,50)]\n",
    "criterions=['entropy','gini']\n",
    "max_f=['auto','log2',None]\n",
    "#print(n_es)\n",
    "#n_estimators = 100,random_state=101, criterion = 'entropy'\n",
    "for criterion in criterions:\n",
    "  print(criterion)\n",
    "  for f in max_f:\n",
    "    print(f)\n",
    "    for n in n_es:\n",
    "      print(n)\n",
    "      full_pipeline = Pipeline(steps = [('preprocess_pipeline', preprocess_pipeline),\n",
    "                                 ('Random_Forest', RandomForestClassifier(oob_score = True,random_state=40))])\n",
    "      full_pipeline.set_params(Random_Forest__n_estimators=n,Random_Forest__criterion=criterion,\n",
    "                                 Random_Forest__max_features=f,Random_Forest__random_state=54)\n",
    "      full_pipeline.fit(train_X_df, train_Y_df)\n",
    "      print('Train accuracy: ', full_pipeline.score(train_X_df, train_Y_df) * 100)\n",
    "      print('Test accuracy: ', full_pipeline.score(validation_X, validation_Y) * 100)\n"
   ]
  }
 ],
 "metadata": {
  "colab": {
   "collapsed_sections": [],
   "name": "Train-and-test-with-some-models.ipynb",
   "provenance": [
    {
     "file_id": "https://github.com/Blackmen2108/DS_Final_Project/blob/master/train_and_test/Train-and-test-with-some-models.ipynb",
     "timestamp": 1578334941264
    }
   ],
   "toc_visible": true
  },
  "kernelspec": {
   "display_name": "Python 3",
   "language": "python",
   "name": "python3"
  },
  "language_info": {
   "codemirror_mode": {
    "name": "ipython",
    "version": 3
   },
   "file_extension": ".py",
   "mimetype": "text/x-python",
   "name": "python",
   "nbconvert_exporter": "python",
   "pygments_lexer": "ipython3",
   "version": "3.7.4"
  }
 },
 "nbformat": 4,
 "nbformat_minor": 1
}
