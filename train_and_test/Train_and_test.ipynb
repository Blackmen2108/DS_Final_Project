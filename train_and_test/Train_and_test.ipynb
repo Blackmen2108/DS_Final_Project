{
 "cells": [
  {
   "cell_type": "code",
   "execution_count": 1,
   "metadata": {},
   "outputs": [],
   "source": [
    "import pandas as pd\n",
    "import numpy as np\n",
    "\n",
    "from sklearn.model_selection import train_test_split\n",
    "from sklearn.preprocessing import OneHotEncoder, StandardScaler\n",
    "from sklearn.impute import SimpleImputer\n",
    "from sklearn.base import BaseEstimator, TransformerMixin\n",
    "from sklearn.pipeline import Pipeline, make_pipeline\n",
    "from sklearn.compose import ColumnTransformer, make_column_transformer\n",
    "from sklearn.neural_network import MLPClassifier"
   ]
  },
  {
   "cell_type": "code",
   "execution_count": 2,
   "metadata": {},
   "outputs": [
    {
     "name": "stdout",
     "output_type": "stream",
     "text": [
      "<class 'pandas.core.frame.DataFrame'>\n",
      "RangeIndex: 2811 entries, 0 to 2810\n",
      "Data columns (total 27 columns):\n",
      "Bluetooth              2811 non-null int64\n",
      "Width                  2781 non-null float64\n",
      "Height                 2781 non-null float64\n",
      "Thick                  2781 non-null float64\n",
      "Weight                 2646 non-null float64\n",
      "Memory card            2811 non-null object\n",
      "OS                     2811 non-null object\n",
      "SoC                    2811 non-null object\n",
      "Wi-Fi                  2811 non-null int64\n",
      "GPU core               2811 non-null object\n",
      "CPU core               2811 non-null object\n",
      "SIM type               2811 non-null object\n",
      "Number of SIM cards    2811 non-null object\n",
      "USB type               2811 non-null object\n",
      "USB version            2811 non-null object\n",
      "Position tracking      2811 non-null int64\n",
      "Display size           2811 non-null float64\n",
      "Display resolution     2811 non-null float64\n",
      "Display color depth    2811 non-null object\n",
      "Image resolution       2801 non-null float64\n",
      "Video resolution       2720 non-null float64\n",
      "FPS                    2676 non-null float64\n",
      "Battery type           2811 non-null object\n",
      "Battery power          2801 non-null float64\n",
      "RAM                    2811 non-null float64\n",
      "Storage                2804 non-null float64\n",
      "Price range            2811 non-null int64\n",
      "dtypes: float64(12), int64(4), object(11)\n",
      "memory usage: 593.1+ KB\n"
     ]
    }
   ],
   "source": [
    "data_df = pd.read_csv('C:/Users/DELL/Desktop/HK1_2019-2020/DataScience/FinalProject/DS_Final_Project/data/mobile_dataset.csv', sep='\\t')\n",
    "data_df.info()"
   ]
  },
  {
   "cell_type": "code",
   "execution_count": 3,
   "metadata": {},
   "outputs": [],
   "source": [
    "data_df = data_df.replace('nan cards', 'No info')\n",
    "data_df = data_df.replace('version nan', 'No info')"
   ]
  },
  {
   "cell_type": "code",
   "execution_count": 4,
   "metadata": {},
   "outputs": [],
   "source": [
    "# Tách X và y\n",
    "y_df = data_df[\"Price range\"] \n",
    "X_df = data_df.drop(\"Price range\", axis=1)"
   ]
  },
  {
   "cell_type": "code",
   "execution_count": 5,
   "metadata": {},
   "outputs": [],
   "source": [
    "# tách ra tỉ lệ train và test\n",
    "train_X, test_X, train_Y, test_Y = train_test_split(X_df, y_df, test_size=0.1, \n",
    "                                                              stratify=y_df, random_state=0)"
   ]
  },
  {
   "cell_type": "code",
   "execution_count": 6,
   "metadata": {},
   "outputs": [],
   "source": [
    "# tách ra trong tập train tỉ lệ validation và train\n",
    "train_X_df, validation_X_df, train_Y_df, validation_Y_df = train_test_split(train_X, train_Y, test_size=0.05, \n",
    "                                                              stratify=train_Y, random_state=0)"
   ]
  },
  {
   "cell_type": "code",
   "execution_count": 7,
   "metadata": {},
   "outputs": [],
   "source": [
    "num_cols = ['Width', 'Height', 'Thick', 'Weight', 'Display size', 'Display resolution', 'Image resolution',\n",
    "           'Video resolution', 'FPS', 'Battery power', 'RAM', 'Storage']\n",
    "cat_cols = ['Memory card', 'OS', 'SoC', 'GPU core', 'CPU core', 'SIM type', 'Number of SIM cards', 'USB type', 'USB version',\n",
    "           'Display color depth', 'Battery type']"
   ]
  },
  {
   "cell_type": "code",
   "execution_count": 8,
   "metadata": {},
   "outputs": [],
   "source": [
    "numeric_transformer = Pipeline(steps=[('imputer', SimpleImputer(missing_values = np.float64('NaN'), strategy='mean'))])\n",
    "\n",
    "categorical_transformer = Pipeline(\n",
    "    steps=[('imputer', SimpleImputer(missing_values = 'No info', strategy='most_frequent')),\n",
    "           ('onehot', OneHotEncoder(handle_unknown='ignore'))])\n",
    "\n",
    "preprocessor = ColumnTransformer(transformers=[('num', numeric_transformer, num_cols),\n",
    "                                               ('cat', categorical_transformer, cat_cols)])\n",
    "\n",
    "preprocess_pipeline = Pipeline(steps=[('preprocessor', preprocessor), ('scaler', StandardScaler(with_mean=False))])"
   ]
  },
  {
   "cell_type": "code",
   "execution_count": 9,
   "metadata": {},
   "outputs": [
    {
     "name": "stdout",
     "output_type": "stream",
     "text": [
      "[94.00499583680266, 94.67110741049126, 94.96253122398002, 92.5895087427144, 86.76103247293922, 82.59783513738552]\n",
      "[81.10236220472441, 81.10236220472441, 78.74015748031496, 82.67716535433071, 83.46456692913385, 82.67716535433071]\n",
      "[86.87943262411348, 86.52482269503547, 84.75177304964538, 86.87943262411348, 89.00709219858156, 82.62411347517731]\n"
     ]
    }
   ],
   "source": [
    "full_pipeline = Pipeline(steps = [('preprocess_pipeline', preprocess_pipeline),\n",
    "                                 ('NeuralNet', MLPClassifier(hidden_layer_sizes=(20), activation='tanh', \n",
    "                                                            solver='lbfgs', random_state=0, max_iter=500))])\n",
    "\n",
    "train_accuracy = []\n",
    "val_accuracy = []\n",
    "test_accuracy = []\n",
    "alphas = [0.1, 0.5, 1, 10, 100, 1000]\n",
    "\n",
    "for alpha in alphas:\n",
    "    full_pipeline.set_params(NeuralNet__alpha = alpha)\n",
    "    full_pipeline.fit(train_X_df, train_Y_df)\n",
    "    train_accuracy.append(full_pipeline.score(train_X_df, train_Y_df) * 100)\n",
    "    val_accuracy.append(full_pipeline.score(validation_X_df, validation_Y_df) * 100)\n",
    "    test_accuracy.append(full_pipeline.score(test_X, test_Y) * 100)\n",
    "\n",
    "print(train_accuracy)\n",
    "print(val_accuracy)\n",
    "print(test_accuracy)"
   ]
  },
  {
   "cell_type": "code",
   "execution_count": 10,
   "metadata": {},
   "outputs": [
    {
     "name": "stdout",
     "output_type": "stream",
     "text": [
      "Train accuracy:  89.17568692756038\n",
      "Validation accuracy:  83.46456692913385\n",
      "Test accuracy:  87.2340425531915\n"
     ]
    }
   ],
   "source": [
    "# Logistic Regression\n",
    "from sklearn.linear_model import LogisticRegression\n",
    "full_pipeline = Pipeline(steps = [('preprocess_pipeline', preprocess_pipeline),\n",
    "                                 ('LogReg', LogisticRegression(multi_class = 'multinomial', solver = 'sag',  max_iter = 10000))])\n",
    "\n",
    "full_pipeline.fit(train_X_df, train_Y_df)\n",
    "print('Train accuracy: ', full_pipeline.score(train_X_df, train_Y_df) * 100)\n",
    "print('Validation accuracy: ', full_pipeline.score(validation_X_df, validation_Y_df) * 100)\n",
    "print('Test accuracy: ', full_pipeline.score(test_X, test_Y) * 100)"
   ]
  },
  {
   "cell_type": "code",
   "execution_count": 11,
   "metadata": {},
   "outputs": [
    {
     "name": "stdout",
     "output_type": "stream",
     "text": [
      "Train accuracy:  99.91673605328893\n",
      "Validation accuracy:  80.31496062992126\n",
      "Test accuracy:  82.26950354609929\n"
     ]
    }
   ],
   "source": [
    "# Deision Tree\n",
    "from sklearn.tree import DecisionTreeClassifier\n",
    "\n",
    "full_pipeline = Pipeline(steps = [('preprocess_pipeline', preprocess_pipeline),\n",
    "                                 ('Decision_Tree', DecisionTreeClassifier(random_state=101))])\n",
    "\n",
    "full_pipeline.fit(train_X_df, train_Y_df)\n",
    "print('Train accuracy: ', full_pipeline.score(train_X_df, train_Y_df) * 100)\n",
    "print('Validation accuracy: ', full_pipeline.score(validation_X_df, validation_Y_df) * 100)\n",
    "print('Test accuracy: ', full_pipeline.score(test_X, test_Y) * 100)"
   ]
  },
  {
   "cell_type": "code",
   "execution_count": 12,
   "metadata": {},
   "outputs": [
    {
     "name": "stdout",
     "output_type": "stream",
     "text": [
      "Train accuracy:  99.91673605328893\n",
      "Validation accuracy:  85.03937007874016\n",
      "Test accuracy:  86.52482269503547\n"
     ]
    }
   ],
   "source": [
    "# Random Forest\n",
    "from sklearn.ensemble import RandomForestClassifier\n",
    "\n",
    "full_pipeline = Pipeline(steps = [('preprocess_pipeline', preprocess_pipeline),\n",
    "                                 ('Random_Forest', RandomForestClassifier(n_estimators = 100, random_state=101, criterion = 'entropy', oob_score = True))])\n",
    "\n",
    "full_pipeline.fit(train_X_df, train_Y_df)\n",
    "print('Train accuracy: ', full_pipeline.score(train_X_df, train_Y_df) * 100)\n",
    "print('Validation accuracy: ', full_pipeline.score(validation_X_df, validation_Y_df) * 100)\n",
    "print('Test accuracy: ', full_pipeline.score(test_X, test_Y) * 100)"
   ]
  },
  {
   "cell_type": "code",
   "execution_count": 13,
   "metadata": {},
   "outputs": [
    {
     "name": "stdout",
     "output_type": "stream",
     "text": [
      "Train accuracy:  90.3413821815154\n",
      "Validation accuracy:  81.10236220472441\n",
      "Test accuracy:  85.81560283687944\n"
     ]
    }
   ],
   "source": [
    "# KNN\n",
    "from sklearn.neighbors import KNeighborsClassifier\n",
    "\n",
    "full_pipeline = Pipeline(steps = [('preprocess_pipeline', preprocess_pipeline),\n",
    "                                 ('KNN', KNeighborsClassifier(n_neighbors=3))])\n",
    "\n",
    "full_pipeline.fit(train_X_df, train_Y_df)\n",
    "print('Train accuracy: ', full_pipeline.score(train_X_df, train_Y_df) * 100)\n",
    "print('Validation accuracy: ', full_pipeline.score(validation_X_df, validation_Y_df) * 100)\n",
    "print('Test accuracy: ', full_pipeline.score(test_X, test_Y) * 100)"
   ]
  }
 ],
 "metadata": {
  "kernelspec": {
   "display_name": "Python 3",
   "language": "python",
   "name": "python3"
  },
  "language_info": {
   "codemirror_mode": {
    "name": "ipython",
    "version": 3
   },
   "file_extension": ".py",
   "mimetype": "text/x-python",
   "name": "python",
   "nbconvert_exporter": "python",
   "pygments_lexer": "ipython3",
   "version": "3.7.4"
  }
 },
 "nbformat": 4,
 "nbformat_minor": 2
}
